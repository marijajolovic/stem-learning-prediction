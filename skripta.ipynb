{
 "cells": [
  {
   "cell_type": "markdown",
   "id": "a1050c8b",
   "metadata": {},
   "source": [
    "## Seminarski rad: Analiza interesovanja ucenica za STEM radionice"
   ]
  },
  {
   "cell_type": "markdown",
   "id": "cffd0619",
   "metadata": {},
   "source": [
    "#### Uvod\n",
    "\n",
    "Razvoj interesovanja ucenika za nauku, tehnologiju, inzenjerstvo i matematiku (STEM) jedan je od glavnih ciljeva savremenog obrazovanja. \n",
    "Tradicionalni pristupi nastavi često nisu dovoljni da probude motivaciju i radoznalost kod učenika, pa se sve više koriste interaktivne radionice i projekti.\n",
    "\n",
    "U okviru projekata Centra za promociju nauke Republike Srbije sprovedene su radionice *Potraga za blagom* i *(Ne)Moguca misija*, \n",
    "koje su ucenicima osnovnih i srednjih skola ponudile priliku da kroz igru, saradnju i praktican rad povezu znanja iz matematike, fizike i informatike.\n",
    "\n",
    "Cilj ovog rada je da se, na osnovu prikupljenih podataka o ucesnicima radionica, predvidi stepen saglasnosti ucenika sa izjavom:\n",
    "**„Verujem da na ovaj način mogu više da naučim u odnosu na tradicionalne metode nastave“ (i8).**\n"
   ]
  },
  {
   "cell_type": "markdown",
   "id": "5b02eebb",
   "metadata": {},
   "source": [
    "#### Ucitavanje podataka"
   ]
  },
  {
   "cell_type": "code",
   "execution_count": null,
   "id": "50a5178e",
   "metadata": {},
   "outputs": [],
   "source": [
    "import pandas as pd\n",
    "import matplotlib.pyplot as plt\n",
    "import seaborn as sns"
   ]
  },
  {
   "cell_type": "code",
   "execution_count": 3,
   "id": "7acef328",
   "metadata": {},
   "outputs": [
    {
     "data": {
      "application/vnd.microsoft.datawrangler.viewer.v0+json": {
       "columns": [
        {
         "name": "index",
         "rawType": "int64",
         "type": "integer"
        },
        {
         "name": "Id",
         "rawType": "int64",
         "type": "integer"
        },
        {
         "name": "workshop",
         "rawType": "int64",
         "type": "integer"
        },
        {
         "name": "sex",
         "rawType": "int64",
         "type": "integer"
        },
        {
         "name": "class",
         "rawType": "int64",
         "type": "integer"
        },
        {
         "name": "math",
         "rawType": "int64",
         "type": "integer"
        },
        {
         "name": "physics",
         "rawType": "int64",
         "type": "integer"
        },
        {
         "name": "informatics",
         "rawType": "int64",
         "type": "integer"
        },
        {
         "name": "experience",
         "rawType": "int64",
         "type": "integer"
        },
        {
         "name": "i1",
         "rawType": "int64",
         "type": "integer"
        },
        {
         "name": "i2",
         "rawType": "int64",
         "type": "integer"
        },
        {
         "name": "i3",
         "rawType": "int64",
         "type": "integer"
        },
        {
         "name": "i4",
         "rawType": "int64",
         "type": "integer"
        },
        {
         "name": "i5",
         "rawType": "int64",
         "type": "integer"
        },
        {
         "name": "i6",
         "rawType": "int64",
         "type": "integer"
        },
        {
         "name": "i7",
         "rawType": "int64",
         "type": "integer"
        },
        {
         "name": "i8",
         "rawType": "int64",
         "type": "integer"
        },
        {
         "name": "i9",
         "rawType": "int64",
         "type": "integer"
        },
        {
         "name": "i10",
         "rawType": "int64",
         "type": "integer"
        },
        {
         "name": "i11",
         "rawType": "int64",
         "type": "integer"
        },
        {
         "name": "i12",
         "rawType": "int64",
         "type": "integer"
        },
        {
         "name": "i13",
         "rawType": "int64",
         "type": "integer"
        },
        {
         "name": "i14",
         "rawType": "int64",
         "type": "integer"
        }
       ],
       "ref": "b9e25df0-2e50-486f-ae96-54d06305ab4a",
       "rows": [
        [
         "0",
         "1",
         "1",
         "1",
         "9",
         "5",
         "5",
         "5",
         "0",
         "5",
         "5",
         "5",
         "5",
         "5",
         "5",
         "5",
         "5",
         "5",
         "5",
         "5",
         "5",
         "5",
         "5"
        ],
        [
         "1",
         "2",
         "1",
         "1",
         "10",
         "5",
         "5",
         "5",
         "1",
         "5",
         "5",
         "3",
         "4",
         "5",
         "4",
         "5",
         "5",
         "5",
         "5",
         "5",
         "5",
         "5",
         "5"
        ],
        [
         "2",
         "3",
         "1",
         "1",
         "9",
         "3",
         "5",
         "5",
         "1",
         "5",
         "5",
         "5",
         "5",
         "5",
         "5",
         "5",
         "5",
         "5",
         "3",
         "3",
         "5",
         "5",
         "5"
        ],
        [
         "3",
         "4",
         "1",
         "1",
         "9",
         "2",
         "4",
         "5",
         "0",
         "5",
         "4",
         "4",
         "4",
         "4",
         "4",
         "5",
         "5",
         "3",
         "2",
         "3",
         "4",
         "3",
         "5"
        ],
        [
         "4",
         "5",
         "1",
         "1",
         "9",
         "5",
         "4",
         "5",
         "0",
         "3",
         "2",
         "3",
         "4",
         "5",
         "2",
         "2",
         "3",
         "4",
         "5",
         "3",
         "5",
         "3",
         "5"
        ]
       ],
       "shape": {
        "columns": 22,
        "rows": 5
       }
      },
      "text/html": [
       "<div>\n",
       "<style scoped>\n",
       "    .dataframe tbody tr th:only-of-type {\n",
       "        vertical-align: middle;\n",
       "    }\n",
       "\n",
       "    .dataframe tbody tr th {\n",
       "        vertical-align: top;\n",
       "    }\n",
       "\n",
       "    .dataframe thead th {\n",
       "        text-align: right;\n",
       "    }\n",
       "</style>\n",
       "<table border=\"1\" class=\"dataframe\">\n",
       "  <thead>\n",
       "    <tr style=\"text-align: right;\">\n",
       "      <th></th>\n",
       "      <th>Id</th>\n",
       "      <th>workshop</th>\n",
       "      <th>sex</th>\n",
       "      <th>class</th>\n",
       "      <th>math</th>\n",
       "      <th>physics</th>\n",
       "      <th>informatics</th>\n",
       "      <th>experience</th>\n",
       "      <th>i1</th>\n",
       "      <th>i2</th>\n",
       "      <th>...</th>\n",
       "      <th>i5</th>\n",
       "      <th>i6</th>\n",
       "      <th>i7</th>\n",
       "      <th>i8</th>\n",
       "      <th>i9</th>\n",
       "      <th>i10</th>\n",
       "      <th>i11</th>\n",
       "      <th>i12</th>\n",
       "      <th>i13</th>\n",
       "      <th>i14</th>\n",
       "    </tr>\n",
       "  </thead>\n",
       "  <tbody>\n",
       "    <tr>\n",
       "      <th>0</th>\n",
       "      <td>1</td>\n",
       "      <td>1</td>\n",
       "      <td>1</td>\n",
       "      <td>9</td>\n",
       "      <td>5</td>\n",
       "      <td>5</td>\n",
       "      <td>5</td>\n",
       "      <td>0</td>\n",
       "      <td>5</td>\n",
       "      <td>5</td>\n",
       "      <td>...</td>\n",
       "      <td>5</td>\n",
       "      <td>5</td>\n",
       "      <td>5</td>\n",
       "      <td>5</td>\n",
       "      <td>5</td>\n",
       "      <td>5</td>\n",
       "      <td>5</td>\n",
       "      <td>5</td>\n",
       "      <td>5</td>\n",
       "      <td>5</td>\n",
       "    </tr>\n",
       "    <tr>\n",
       "      <th>1</th>\n",
       "      <td>2</td>\n",
       "      <td>1</td>\n",
       "      <td>1</td>\n",
       "      <td>10</td>\n",
       "      <td>5</td>\n",
       "      <td>5</td>\n",
       "      <td>5</td>\n",
       "      <td>1</td>\n",
       "      <td>5</td>\n",
       "      <td>5</td>\n",
       "      <td>...</td>\n",
       "      <td>5</td>\n",
       "      <td>4</td>\n",
       "      <td>5</td>\n",
       "      <td>5</td>\n",
       "      <td>5</td>\n",
       "      <td>5</td>\n",
       "      <td>5</td>\n",
       "      <td>5</td>\n",
       "      <td>5</td>\n",
       "      <td>5</td>\n",
       "    </tr>\n",
       "    <tr>\n",
       "      <th>2</th>\n",
       "      <td>3</td>\n",
       "      <td>1</td>\n",
       "      <td>1</td>\n",
       "      <td>9</td>\n",
       "      <td>3</td>\n",
       "      <td>5</td>\n",
       "      <td>5</td>\n",
       "      <td>1</td>\n",
       "      <td>5</td>\n",
       "      <td>5</td>\n",
       "      <td>...</td>\n",
       "      <td>5</td>\n",
       "      <td>5</td>\n",
       "      <td>5</td>\n",
       "      <td>5</td>\n",
       "      <td>5</td>\n",
       "      <td>3</td>\n",
       "      <td>3</td>\n",
       "      <td>5</td>\n",
       "      <td>5</td>\n",
       "      <td>5</td>\n",
       "    </tr>\n",
       "    <tr>\n",
       "      <th>3</th>\n",
       "      <td>4</td>\n",
       "      <td>1</td>\n",
       "      <td>1</td>\n",
       "      <td>9</td>\n",
       "      <td>2</td>\n",
       "      <td>4</td>\n",
       "      <td>5</td>\n",
       "      <td>0</td>\n",
       "      <td>5</td>\n",
       "      <td>4</td>\n",
       "      <td>...</td>\n",
       "      <td>4</td>\n",
       "      <td>4</td>\n",
       "      <td>5</td>\n",
       "      <td>5</td>\n",
       "      <td>3</td>\n",
       "      <td>2</td>\n",
       "      <td>3</td>\n",
       "      <td>4</td>\n",
       "      <td>3</td>\n",
       "      <td>5</td>\n",
       "    </tr>\n",
       "    <tr>\n",
       "      <th>4</th>\n",
       "      <td>5</td>\n",
       "      <td>1</td>\n",
       "      <td>1</td>\n",
       "      <td>9</td>\n",
       "      <td>5</td>\n",
       "      <td>4</td>\n",
       "      <td>5</td>\n",
       "      <td>0</td>\n",
       "      <td>3</td>\n",
       "      <td>2</td>\n",
       "      <td>...</td>\n",
       "      <td>5</td>\n",
       "      <td>2</td>\n",
       "      <td>2</td>\n",
       "      <td>3</td>\n",
       "      <td>4</td>\n",
       "      <td>5</td>\n",
       "      <td>3</td>\n",
       "      <td>5</td>\n",
       "      <td>3</td>\n",
       "      <td>5</td>\n",
       "    </tr>\n",
       "  </tbody>\n",
       "</table>\n",
       "<p>5 rows × 22 columns</p>\n",
       "</div>"
      ],
      "text/plain": [
       "   Id  workshop  sex  class  math  physics  informatics  experience  i1  i2  \\\n",
       "0   1         1    1      9     5        5            5           0   5   5   \n",
       "1   2         1    1     10     5        5            5           1   5   5   \n",
       "2   3         1    1      9     3        5            5           1   5   5   \n",
       "3   4         1    1      9     2        4            5           0   5   4   \n",
       "4   5         1    1      9     5        4            5           0   3   2   \n",
       "\n",
       "   ...  i5  i6  i7  i8  i9  i10  i11  i12  i13  i14  \n",
       "0  ...   5   5   5   5   5    5    5    5    5    5  \n",
       "1  ...   5   4   5   5   5    5    5    5    5    5  \n",
       "2  ...   5   5   5   5   5    3    3    5    5    5  \n",
       "3  ...   4   4   5   5   3    2    3    4    3    5  \n",
       "4  ...   5   2   2   3   4    5    3    5    3    5  \n",
       "\n",
       "[5 rows x 22 columns]"
      ]
     },
     "execution_count": 3,
     "metadata": {},
     "output_type": "execute_result"
    }
   ],
   "source": [
    "df = pd.read_csv(\"podaci/STEM_anketa.csv\")\n",
    "df.head()"
   ]
  },
  {
   "cell_type": "markdown",
   "id": "43986219",
   "metadata": {},
   "source": [
    "#### Opis podataka"
   ]
  },
  {
   "cell_type": "markdown",
   "id": "c264b493",
   "metadata": {},
   "source": [
    "##### Osnovne informacije o podacima"
   ]
  },
  {
   "cell_type": "code",
   "execution_count": 11,
   "id": "86ceb4ec",
   "metadata": {},
   "outputs": [
    {
     "name": "stdout",
     "output_type": "stream",
     "text": [
      "<class 'pandas.core.frame.DataFrame'>\n",
      "RangeIndex: 208 entries, 0 to 207\n",
      "Data columns (total 22 columns):\n",
      " #   Column       Non-Null Count  Dtype\n",
      "---  ------       --------------  -----\n",
      " 0   Id           208 non-null    int64\n",
      " 1   workshop     208 non-null    int64\n",
      " 2   sex          208 non-null    int64\n",
      " 3   class        208 non-null    int64\n",
      " 4   math         208 non-null    int64\n",
      " 5   physics      208 non-null    int64\n",
      " 6   informatics  208 non-null    int64\n",
      " 7   experience   208 non-null    int64\n",
      " 8   i1           208 non-null    int64\n",
      " 9   i2           208 non-null    int64\n",
      " 10  i3           208 non-null    int64\n",
      " 11  i4           208 non-null    int64\n",
      " 12  i5           208 non-null    int64\n",
      " 13  i6           208 non-null    int64\n",
      " 14  i7           208 non-null    int64\n",
      " 15  i8           208 non-null    int64\n",
      " 16  i9           208 non-null    int64\n",
      " 17  i10          208 non-null    int64\n",
      " 18  i11          208 non-null    int64\n",
      " 19  i12          208 non-null    int64\n",
      " 20  i13          208 non-null    int64\n",
      " 21  i14          208 non-null    int64\n",
      "dtypes: int64(22)\n",
      "memory usage: 35.9 KB\n"
     ]
    }
   ],
   "source": [
    "import sys\n",
    "\n",
    "df.info(\n",
    "    verbose=True,\n",
    "    buf=sys.stdout,\n",
    "    memory_usage=True,\n",
    "    show_counts=True\n",
    ")"
   ]
  },
  {
   "cell_type": "code",
   "execution_count": 8,
   "id": "afe9197d",
   "metadata": {},
   "outputs": [
    {
     "data": {
      "application/vnd.microsoft.datawrangler.viewer.v0+json": {
       "columns": [
        {
         "name": "index",
         "rawType": "object",
         "type": "string"
        },
        {
         "name": "0",
         "rawType": "int64",
         "type": "integer"
        }
       ],
       "ref": "1035a1ab-5c5b-47aa-8c73-1bf67f867886",
       "rows": [
        [
         "Id",
         "0"
        ],
        [
         "workshop",
         "0"
        ],
        [
         "sex",
         "0"
        ],
        [
         "class",
         "0"
        ],
        [
         "math",
         "0"
        ],
        [
         "physics",
         "0"
        ],
        [
         "informatics",
         "0"
        ],
        [
         "experience",
         "0"
        ],
        [
         "i1",
         "0"
        ],
        [
         "i2",
         "0"
        ],
        [
         "i3",
         "0"
        ],
        [
         "i4",
         "0"
        ],
        [
         "i5",
         "0"
        ],
        [
         "i6",
         "0"
        ],
        [
         "i7",
         "0"
        ],
        [
         "i8",
         "0"
        ],
        [
         "i9",
         "0"
        ],
        [
         "i10",
         "0"
        ],
        [
         "i11",
         "0"
        ],
        [
         "i12",
         "0"
        ],
        [
         "i13",
         "0"
        ],
        [
         "i14",
         "0"
        ]
       ],
       "shape": {
        "columns": 1,
        "rows": 22
       }
      },
      "text/plain": [
       "Id             0\n",
       "workshop       0\n",
       "sex            0\n",
       "class          0\n",
       "math           0\n",
       "physics        0\n",
       "informatics    0\n",
       "experience     0\n",
       "i1             0\n",
       "i2             0\n",
       "i3             0\n",
       "i4             0\n",
       "i5             0\n",
       "i6             0\n",
       "i7             0\n",
       "i8             0\n",
       "i9             0\n",
       "i10            0\n",
       "i11            0\n",
       "i12            0\n",
       "i13            0\n",
       "i14            0\n",
       "dtype: int64"
      ]
     },
     "execution_count": 8,
     "metadata": {},
     "output_type": "execute_result"
    }
   ],
   "source": [
    "# Broj nedostajucih vrednosti za svaku kolonu\n",
    "df.isnull().sum()"
   ]
  },
  {
   "cell_type": "code",
   "execution_count": 9,
   "id": "17ae785f",
   "metadata": {},
   "outputs": [
    {
     "data": {
      "application/vnd.microsoft.datawrangler.viewer.v0+json": {
       "columns": [
        {
         "name": "index",
         "rawType": "object",
         "type": "string"
        },
        {
         "name": "0",
         "rawType": "bool",
         "type": "boolean"
        }
       ],
       "ref": "0068211d-896d-450e-a41a-08c0e6ddae31",
       "rows": [
        [
         "Id",
         "False"
        ],
        [
         "workshop",
         "False"
        ],
        [
         "sex",
         "False"
        ],
        [
         "class",
         "False"
        ],
        [
         "math",
         "False"
        ],
        [
         "physics",
         "False"
        ],
        [
         "informatics",
         "False"
        ],
        [
         "experience",
         "False"
        ],
        [
         "i1",
         "False"
        ],
        [
         "i2",
         "False"
        ],
        [
         "i3",
         "False"
        ],
        [
         "i4",
         "False"
        ],
        [
         "i5",
         "False"
        ],
        [
         "i6",
         "False"
        ],
        [
         "i7",
         "False"
        ],
        [
         "i8",
         "False"
        ],
        [
         "i9",
         "False"
        ],
        [
         "i10",
         "False"
        ],
        [
         "i11",
         "False"
        ],
        [
         "i12",
         "False"
        ],
        [
         "i13",
         "False"
        ],
        [
         "i14",
         "False"
        ]
       ],
       "shape": {
        "columns": 1,
        "rows": 22
       }
      },
      "text/plain": [
       "Id             False\n",
       "workshop       False\n",
       "sex            False\n",
       "class          False\n",
       "math           False\n",
       "physics        False\n",
       "informatics    False\n",
       "experience     False\n",
       "i1             False\n",
       "i2             False\n",
       "i3             False\n",
       "i4             False\n",
       "i5             False\n",
       "i6             False\n",
       "i7             False\n",
       "i8             False\n",
       "i9             False\n",
       "i10            False\n",
       "i11            False\n",
       "i12            False\n",
       "i13            False\n",
       "i14            False\n",
       "dtype: bool"
      ]
     },
     "execution_count": 9,
     "metadata": {},
     "output_type": "execute_result"
    }
   ],
   "source": [
    "df.isna().any()"
   ]
  },
  {
   "cell_type": "code",
   "execution_count": 10,
   "id": "69504ef7",
   "metadata": {},
   "outputs": [
    {
     "data": {
      "application/vnd.microsoft.datawrangler.viewer.v0+json": {
       "columns": [
        {
         "name": "index",
         "rawType": "object",
         "type": "string"
        },
        {
         "name": "Id",
         "rawType": "float64",
         "type": "float"
        },
        {
         "name": "workshop",
         "rawType": "float64",
         "type": "float"
        },
        {
         "name": "sex",
         "rawType": "float64",
         "type": "float"
        },
        {
         "name": "class",
         "rawType": "float64",
         "type": "float"
        },
        {
         "name": "math",
         "rawType": "float64",
         "type": "float"
        },
        {
         "name": "physics",
         "rawType": "float64",
         "type": "float"
        },
        {
         "name": "informatics",
         "rawType": "float64",
         "type": "float"
        },
        {
         "name": "experience",
         "rawType": "float64",
         "type": "float"
        },
        {
         "name": "i1",
         "rawType": "float64",
         "type": "float"
        },
        {
         "name": "i2",
         "rawType": "float64",
         "type": "float"
        },
        {
         "name": "i3",
         "rawType": "float64",
         "type": "float"
        },
        {
         "name": "i4",
         "rawType": "float64",
         "type": "float"
        },
        {
         "name": "i5",
         "rawType": "float64",
         "type": "float"
        },
        {
         "name": "i6",
         "rawType": "float64",
         "type": "float"
        },
        {
         "name": "i7",
         "rawType": "float64",
         "type": "float"
        },
        {
         "name": "i8",
         "rawType": "float64",
         "type": "float"
        },
        {
         "name": "i9",
         "rawType": "float64",
         "type": "float"
        },
        {
         "name": "i10",
         "rawType": "float64",
         "type": "float"
        },
        {
         "name": "i11",
         "rawType": "float64",
         "type": "float"
        },
        {
         "name": "i12",
         "rawType": "float64",
         "type": "float"
        },
        {
         "name": "i13",
         "rawType": "float64",
         "type": "float"
        },
        {
         "name": "i14",
         "rawType": "float64",
         "type": "float"
        }
       ],
       "ref": "8fde0989-9652-4aa9-b19d-e6ef3b747eeb",
       "rows": [
        [
         "count",
         "208.0",
         "208.0",
         "208.0",
         "208.0",
         "208.0",
         "208.0",
         "208.0",
         "208.0",
         "208.0",
         "208.0",
         "208.0",
         "208.0",
         "208.0",
         "208.0",
         "208.0",
         "208.0",
         "208.0",
         "208.0",
         "208.0",
         "208.0",
         "208.0",
         "208.0"
        ],
        [
         "mean",
         "104.5",
         "1.4807692307692308",
         "1.4951923076923077",
         "8.346153846153847",
         "3.6971153846153846",
         "3.956730769230769",
         "4.759615384615385",
         "0.5673076923076923",
         "4.634615384615385",
         "4.485576923076923",
         "4.360576923076923",
         "4.278846153846154",
         "4.5576923076923075",
         "4.038461538461538",
         "4.4326923076923075",
         "4.355769230769231",
         "4.110576923076923",
         "3.7884615384615383",
         "4.3798076923076925",
         "4.466346153846154",
         "4.533653846153846",
         "4.3701923076923075"
        ],
        [
         "std",
         "60.18859249614221",
         "0.5008354224706334",
         "0.5011831041664266",
         "1.4092121399718611",
         "1.2116947632066666",
         "1.064605292857443",
         "0.5292450608632645",
         "1.009753622572373",
         "0.5656460084822739",
         "0.6808517355795566",
         "0.7086652445526475",
         "0.708222661693242",
         "0.6785452338176711",
         "0.9471347783545044",
         "0.6776547091757563",
         "0.7975599167990011",
         "0.9938378515702022",
         "1.0231435590741487",
         "0.82530975683264",
         "0.7011530292453412",
         "0.6801691430618868",
         "0.762956341016988"
        ],
        [
         "min",
         "1.0",
         "1.0",
         "1.0",
         "0.0",
         "1.0",
         "2.0",
         "3.0",
         "0.0",
         "3.0",
         "2.0",
         "2.0",
         "3.0",
         "2.0",
         "1.0",
         "2.0",
         "2.0",
         "2.0",
         "1.0",
         "1.0",
         "2.0",
         "2.0",
         "2.0"
        ],
        [
         "25%",
         "52.75",
         "1.0",
         "1.0",
         "7.0",
         "3.0",
         "3.0",
         "5.0",
         "0.0",
         "4.0",
         "4.0",
         "4.0",
         "4.0",
         "4.0",
         "3.0",
         "4.0",
         "4.0",
         "3.0",
         "3.0",
         "4.0",
         "4.0",
         "4.0",
         "4.0"
        ],
        [
         "50%",
         "104.5",
         "1.0",
         "1.0",
         "9.0",
         "4.0",
         "4.0",
         "5.0",
         "0.0",
         "5.0",
         "5.0",
         "4.0",
         "4.0",
         "5.0",
         "4.0",
         "5.0",
         "5.0",
         "4.0",
         "4.0",
         "5.0",
         "5.0",
         "5.0",
         "5.0"
        ],
        [
         "75%",
         "156.25",
         "2.0",
         "2.0",
         "9.0",
         "5.0",
         "5.0",
         "5.0",
         "1.0",
         "5.0",
         "5.0",
         "5.0",
         "5.0",
         "5.0",
         "5.0",
         "5.0",
         "5.0",
         "5.0",
         "5.0",
         "5.0",
         "5.0",
         "5.0",
         "5.0"
        ],
        [
         "max",
         "208.0",
         "2.0",
         "2.0",
         "10.0",
         "5.0",
         "5.0",
         "5.0",
         "5.0",
         "5.0",
         "5.0",
         "5.0",
         "5.0",
         "5.0",
         "5.0",
         "5.0",
         "5.0",
         "5.0",
         "5.0",
         "5.0",
         "5.0",
         "5.0",
         "5.0"
        ]
       ],
       "shape": {
        "columns": 22,
        "rows": 8
       }
      },
      "text/html": [
       "<div>\n",
       "<style scoped>\n",
       "    .dataframe tbody tr th:only-of-type {\n",
       "        vertical-align: middle;\n",
       "    }\n",
       "\n",
       "    .dataframe tbody tr th {\n",
       "        vertical-align: top;\n",
       "    }\n",
       "\n",
       "    .dataframe thead th {\n",
       "        text-align: right;\n",
       "    }\n",
       "</style>\n",
       "<table border=\"1\" class=\"dataframe\">\n",
       "  <thead>\n",
       "    <tr style=\"text-align: right;\">\n",
       "      <th></th>\n",
       "      <th>Id</th>\n",
       "      <th>workshop</th>\n",
       "      <th>sex</th>\n",
       "      <th>class</th>\n",
       "      <th>math</th>\n",
       "      <th>physics</th>\n",
       "      <th>informatics</th>\n",
       "      <th>experience</th>\n",
       "      <th>i1</th>\n",
       "      <th>i2</th>\n",
       "      <th>...</th>\n",
       "      <th>i5</th>\n",
       "      <th>i6</th>\n",
       "      <th>i7</th>\n",
       "      <th>i8</th>\n",
       "      <th>i9</th>\n",
       "      <th>i10</th>\n",
       "      <th>i11</th>\n",
       "      <th>i12</th>\n",
       "      <th>i13</th>\n",
       "      <th>i14</th>\n",
       "    </tr>\n",
       "  </thead>\n",
       "  <tbody>\n",
       "    <tr>\n",
       "      <th>count</th>\n",
       "      <td>208.000000</td>\n",
       "      <td>208.000000</td>\n",
       "      <td>208.000000</td>\n",
       "      <td>208.000000</td>\n",
       "      <td>208.000000</td>\n",
       "      <td>208.000000</td>\n",
       "      <td>208.000000</td>\n",
       "      <td>208.000000</td>\n",
       "      <td>208.000000</td>\n",
       "      <td>208.000000</td>\n",
       "      <td>...</td>\n",
       "      <td>208.000000</td>\n",
       "      <td>208.000000</td>\n",
       "      <td>208.000000</td>\n",
       "      <td>208.000000</td>\n",
       "      <td>208.000000</td>\n",
       "      <td>208.000000</td>\n",
       "      <td>208.000000</td>\n",
       "      <td>208.000000</td>\n",
       "      <td>208.000000</td>\n",
       "      <td>208.000000</td>\n",
       "    </tr>\n",
       "    <tr>\n",
       "      <th>mean</th>\n",
       "      <td>104.500000</td>\n",
       "      <td>1.480769</td>\n",
       "      <td>1.495192</td>\n",
       "      <td>8.346154</td>\n",
       "      <td>3.697115</td>\n",
       "      <td>3.956731</td>\n",
       "      <td>4.759615</td>\n",
       "      <td>0.567308</td>\n",
       "      <td>4.634615</td>\n",
       "      <td>4.485577</td>\n",
       "      <td>...</td>\n",
       "      <td>4.557692</td>\n",
       "      <td>4.038462</td>\n",
       "      <td>4.432692</td>\n",
       "      <td>4.355769</td>\n",
       "      <td>4.110577</td>\n",
       "      <td>3.788462</td>\n",
       "      <td>4.379808</td>\n",
       "      <td>4.466346</td>\n",
       "      <td>4.533654</td>\n",
       "      <td>4.370192</td>\n",
       "    </tr>\n",
       "    <tr>\n",
       "      <th>std</th>\n",
       "      <td>60.188592</td>\n",
       "      <td>0.500835</td>\n",
       "      <td>0.501183</td>\n",
       "      <td>1.409212</td>\n",
       "      <td>1.211695</td>\n",
       "      <td>1.064605</td>\n",
       "      <td>0.529245</td>\n",
       "      <td>1.009754</td>\n",
       "      <td>0.565646</td>\n",
       "      <td>0.680852</td>\n",
       "      <td>...</td>\n",
       "      <td>0.678545</td>\n",
       "      <td>0.947135</td>\n",
       "      <td>0.677655</td>\n",
       "      <td>0.797560</td>\n",
       "      <td>0.993838</td>\n",
       "      <td>1.023144</td>\n",
       "      <td>0.825310</td>\n",
       "      <td>0.701153</td>\n",
       "      <td>0.680169</td>\n",
       "      <td>0.762956</td>\n",
       "    </tr>\n",
       "    <tr>\n",
       "      <th>min</th>\n",
       "      <td>1.000000</td>\n",
       "      <td>1.000000</td>\n",
       "      <td>1.000000</td>\n",
       "      <td>0.000000</td>\n",
       "      <td>1.000000</td>\n",
       "      <td>2.000000</td>\n",
       "      <td>3.000000</td>\n",
       "      <td>0.000000</td>\n",
       "      <td>3.000000</td>\n",
       "      <td>2.000000</td>\n",
       "      <td>...</td>\n",
       "      <td>2.000000</td>\n",
       "      <td>1.000000</td>\n",
       "      <td>2.000000</td>\n",
       "      <td>2.000000</td>\n",
       "      <td>2.000000</td>\n",
       "      <td>1.000000</td>\n",
       "      <td>1.000000</td>\n",
       "      <td>2.000000</td>\n",
       "      <td>2.000000</td>\n",
       "      <td>2.000000</td>\n",
       "    </tr>\n",
       "    <tr>\n",
       "      <th>25%</th>\n",
       "      <td>52.750000</td>\n",
       "      <td>1.000000</td>\n",
       "      <td>1.000000</td>\n",
       "      <td>7.000000</td>\n",
       "      <td>3.000000</td>\n",
       "      <td>3.000000</td>\n",
       "      <td>5.000000</td>\n",
       "      <td>0.000000</td>\n",
       "      <td>4.000000</td>\n",
       "      <td>4.000000</td>\n",
       "      <td>...</td>\n",
       "      <td>4.000000</td>\n",
       "      <td>3.000000</td>\n",
       "      <td>4.000000</td>\n",
       "      <td>4.000000</td>\n",
       "      <td>3.000000</td>\n",
       "      <td>3.000000</td>\n",
       "      <td>4.000000</td>\n",
       "      <td>4.000000</td>\n",
       "      <td>4.000000</td>\n",
       "      <td>4.000000</td>\n",
       "    </tr>\n",
       "    <tr>\n",
       "      <th>50%</th>\n",
       "      <td>104.500000</td>\n",
       "      <td>1.000000</td>\n",
       "      <td>1.000000</td>\n",
       "      <td>9.000000</td>\n",
       "      <td>4.000000</td>\n",
       "      <td>4.000000</td>\n",
       "      <td>5.000000</td>\n",
       "      <td>0.000000</td>\n",
       "      <td>5.000000</td>\n",
       "      <td>5.000000</td>\n",
       "      <td>...</td>\n",
       "      <td>5.000000</td>\n",
       "      <td>4.000000</td>\n",
       "      <td>5.000000</td>\n",
       "      <td>5.000000</td>\n",
       "      <td>4.000000</td>\n",
       "      <td>4.000000</td>\n",
       "      <td>5.000000</td>\n",
       "      <td>5.000000</td>\n",
       "      <td>5.000000</td>\n",
       "      <td>5.000000</td>\n",
       "    </tr>\n",
       "    <tr>\n",
       "      <th>75%</th>\n",
       "      <td>156.250000</td>\n",
       "      <td>2.000000</td>\n",
       "      <td>2.000000</td>\n",
       "      <td>9.000000</td>\n",
       "      <td>5.000000</td>\n",
       "      <td>5.000000</td>\n",
       "      <td>5.000000</td>\n",
       "      <td>1.000000</td>\n",
       "      <td>5.000000</td>\n",
       "      <td>5.000000</td>\n",
       "      <td>...</td>\n",
       "      <td>5.000000</td>\n",
       "      <td>5.000000</td>\n",
       "      <td>5.000000</td>\n",
       "      <td>5.000000</td>\n",
       "      <td>5.000000</td>\n",
       "      <td>5.000000</td>\n",
       "      <td>5.000000</td>\n",
       "      <td>5.000000</td>\n",
       "      <td>5.000000</td>\n",
       "      <td>5.000000</td>\n",
       "    </tr>\n",
       "    <tr>\n",
       "      <th>max</th>\n",
       "      <td>208.000000</td>\n",
       "      <td>2.000000</td>\n",
       "      <td>2.000000</td>\n",
       "      <td>10.000000</td>\n",
       "      <td>5.000000</td>\n",
       "      <td>5.000000</td>\n",
       "      <td>5.000000</td>\n",
       "      <td>5.000000</td>\n",
       "      <td>5.000000</td>\n",
       "      <td>5.000000</td>\n",
       "      <td>...</td>\n",
       "      <td>5.000000</td>\n",
       "      <td>5.000000</td>\n",
       "      <td>5.000000</td>\n",
       "      <td>5.000000</td>\n",
       "      <td>5.000000</td>\n",
       "      <td>5.000000</td>\n",
       "      <td>5.000000</td>\n",
       "      <td>5.000000</td>\n",
       "      <td>5.000000</td>\n",
       "      <td>5.000000</td>\n",
       "    </tr>\n",
       "  </tbody>\n",
       "</table>\n",
       "<p>8 rows × 22 columns</p>\n",
       "</div>"
      ],
      "text/plain": [
       "               Id    workshop         sex       class        math     physics  \\\n",
       "count  208.000000  208.000000  208.000000  208.000000  208.000000  208.000000   \n",
       "mean   104.500000    1.480769    1.495192    8.346154    3.697115    3.956731   \n",
       "std     60.188592    0.500835    0.501183    1.409212    1.211695    1.064605   \n",
       "min      1.000000    1.000000    1.000000    0.000000    1.000000    2.000000   \n",
       "25%     52.750000    1.000000    1.000000    7.000000    3.000000    3.000000   \n",
       "50%    104.500000    1.000000    1.000000    9.000000    4.000000    4.000000   \n",
       "75%    156.250000    2.000000    2.000000    9.000000    5.000000    5.000000   \n",
       "max    208.000000    2.000000    2.000000   10.000000    5.000000    5.000000   \n",
       "\n",
       "       informatics  experience          i1          i2  ...          i5  \\\n",
       "count   208.000000  208.000000  208.000000  208.000000  ...  208.000000   \n",
       "mean      4.759615    0.567308    4.634615    4.485577  ...    4.557692   \n",
       "std       0.529245    1.009754    0.565646    0.680852  ...    0.678545   \n",
       "min       3.000000    0.000000    3.000000    2.000000  ...    2.000000   \n",
       "25%       5.000000    0.000000    4.000000    4.000000  ...    4.000000   \n",
       "50%       5.000000    0.000000    5.000000    5.000000  ...    5.000000   \n",
       "75%       5.000000    1.000000    5.000000    5.000000  ...    5.000000   \n",
       "max       5.000000    5.000000    5.000000    5.000000  ...    5.000000   \n",
       "\n",
       "               i6          i7          i8          i9         i10         i11  \\\n",
       "count  208.000000  208.000000  208.000000  208.000000  208.000000  208.000000   \n",
       "mean     4.038462    4.432692    4.355769    4.110577    3.788462    4.379808   \n",
       "std      0.947135    0.677655    0.797560    0.993838    1.023144    0.825310   \n",
       "min      1.000000    2.000000    2.000000    2.000000    1.000000    1.000000   \n",
       "25%      3.000000    4.000000    4.000000    3.000000    3.000000    4.000000   \n",
       "50%      4.000000    5.000000    5.000000    4.000000    4.000000    5.000000   \n",
       "75%      5.000000    5.000000    5.000000    5.000000    5.000000    5.000000   \n",
       "max      5.000000    5.000000    5.000000    5.000000    5.000000    5.000000   \n",
       "\n",
       "              i12         i13         i14  \n",
       "count  208.000000  208.000000  208.000000  \n",
       "mean     4.466346    4.533654    4.370192  \n",
       "std      0.701153    0.680169    0.762956  \n",
       "min      2.000000    2.000000    2.000000  \n",
       "25%      4.000000    4.000000    4.000000  \n",
       "50%      5.000000    5.000000    5.000000  \n",
       "75%      5.000000    5.000000    5.000000  \n",
       "max      5.000000    5.000000    5.000000  \n",
       "\n",
       "[8 rows x 22 columns]"
      ]
     },
     "execution_count": 10,
     "metadata": {},
     "output_type": "execute_result"
    }
   ],
   "source": [
    "df.describe(\n",
    "    percentiles=[0.25, 0.5, 0.75],\n",
    "    exclude=[object]\n",
    ")"
   ]
  },
  {
   "cell_type": "markdown",
   "id": "1fbd4576",
   "metadata": {},
   "source": [
    "##### Vizuelizacija celog skupa podataka boxplot diagramom"
   ]
  },
  {
   "cell_type": "code",
   "execution_count": 18,
   "id": "1f548946",
   "metadata": {},
   "outputs": [
    {
     "data": {
      "image/png": "[encoded data removed]",
      "text/plain": [
       "<Figure size 1000x500 with 1 Axes>"
      ]
     },
     "metadata": {},
     "output_type": "display_data"
    }
   ],
   "source": [
    "plt.figure(figsize=(10,5))\n",
    "sns.boxplot(data=df.drop(columns=['Id']))\n",
    "plt.xticks(rotation=90)\n",
    "\n",
    "plt.title(\"Boxplot diagram - za ceo skup podataka\")\n",
    "plt.show()"
   ]
  },
  {
   "cell_type": "markdown",
   "id": "d1a81198",
   "metadata": {},
   "source": [
    "##### Ocene"
   ]
  },
  {
   "cell_type": "code",
   "execution_count": 19,
   "id": "e4336d27",
   "metadata": {},
   "outputs": [
    {
     "data": {
      "image/png": "[encoded data removed]",
      "text/plain": [
       "<Figure size 800x500 with 1 Axes>"
      ]
     },
     "metadata": {},
     "output_type": "display_data"
    }
   ],
   "source": [
    "plt.figure(figsize=(8,5))\n",
    "sns.boxplot(data=df[[\"math\",\"physics\",\"informatics\"]], palette=\"Set2\")\n",
    "plt.title(\"Boxplot dijagram - ocene\")\n",
    "plt.show()"
   ]
  },
  {
   "cell_type": "markdown",
   "id": "a148b285",
   "metadata": {},
   "source": [
    "##### Izjave i1-i14"
   ]
  },
  {
   "cell_type": "code",
   "execution_count": 20,
   "id": "16d6c85b",
   "metadata": {},
   "outputs": [
    {
     "data": {
      "image/png": "[encoded data removed]",
      "text/plain": [
       "<Figure size 1200x600 with 1 Axes>"
      ]
     },
     "metadata": {},
     "output_type": "display_data"
    }
   ],
   "source": [
    "plt.figure(figsize=(12,6))\n",
    "sns.boxplot(data=df[[f\"i{i}\" for i in range(1,15)]], palette=\"Set3\")\n",
    "plt.title(\"Boxplot dijagram - izjave (i1–i14)\")\n",
    "plt.xticks(rotation=45)\n",
    "plt.show()"
   ]
  },
  {
   "cell_type": "markdown",
   "id": "14311566",
   "metadata": {},
   "source": [
    "##### Raspodela ciljne promenljive (i8)"
   ]
  },
  {
   "cell_type": "code",
   "execution_count": 23,
   "id": "d69f298e",
   "metadata": {},
   "outputs": [
    {
     "data": {
      "image/png": "[encoded data removed]",
      "text/plain": [
       "<Figure size 640x480 with 1 Axes>"
      ]
     },
     "metadata": {},
     "output_type": "display_data"
    }
   ],
   "source": [
    "sns.countplot(x='i8', data=df)\n",
    "plt.title('Raspodela odgovora na izjavu i8')\n",
    "plt.show()"
   ]
  },
  {
   "cell_type": "markdown",
   "id": "b5d3ae8c",
   "metadata": {},
   "source": [
    "#### EDA (Eksplorativna analizacija podataka)"
   ]
  },
  {
   "cell_type": "markdown",
   "id": "57a5339b",
   "metadata": {},
   "source": [
    "##### 1. Raspodela pola (sex)"
   ]
  },
  {
   "cell_type": "code",
   "execution_count": 24,
   "id": "a328c8fe",
   "metadata": {},
   "outputs": [
    {
     "data": {
      "image/png": "[encoded data removed]",
      "text/plain": [
       "<Figure size 640x480 with 1 Axes>"
      ]
     },
     "metadata": {},
     "output_type": "display_data"
    }
   ],
   "source": [
    "# Raspodela pola\n",
    "sns.countplot(x=\"sex\", data=df)\n",
    "plt.title(\"Raspodela učenika po polu\")\n",
    "plt.xlabel(\"Pol (1=ženski, 2=muški)\")\n",
    "plt.show()"
   ]
  },
  {
   "cell_type": "markdown",
   "id": "09c52f3c",
   "metadata": {},
   "source": [
    "##### 2. Raspodela po vrsti radionice (workshop)"
   ]
  },
  {
   "cell_type": "code",
   "execution_count": 25,
   "id": "e0377a2e",
   "metadata": {},
   "outputs": [
    {
     "data": {
      "image/png": "[encoded data removed]",
      "text/plain": [
       "<Figure size 640x480 with 1 Axes>"
      ]
     },
     "metadata": {},
     "output_type": "display_data"
    }
   ],
   "source": [
    "# Raspodela radionica\n",
    "sns.countplot(x=\"workshop\", data=df)\n",
    "plt.title(\"Raspodela učenika po radionici\")\n",
    "plt.xlabel(\"Workshop (1=Ne(moguća) misija, 2=Potraga za blagom)\")\n",
    "plt.show()"
   ]
  },
  {
   "cell_type": "markdown",
   "id": "4215019b",
   "metadata": {},
   "source": [
    "##### 3. Raspodela iskustva\n",
    "\n",
    "- experience = 0 (nema prethodnog iskustva)\n",
    "- experience = 1 (ima iskustva)"
   ]
  },
  {
   "cell_type": "code",
   "execution_count": 16,
   "id": "07f8646d",
   "metadata": {},
   "outputs": [
    {
     "data": {
      "image/png": "[encoded data removed]",
      "text/plain": [
       "<Figure size 640x480 with 1 Axes>"
      ]
     },
     "metadata": {},
     "output_type": "display_data"
    }
   ],
   "source": [
    "# Raspodela prethodnog iskustva\n",
    "sns.countplot(x=\"experience\", data=df)\n",
    "plt.title(\"Prethodno iskustvo učenika sa sličnim radionicama\")\n",
    "plt.xlabel(\"Experience (0=nema, 1=ima)\")\n",
    "plt.show()"
   ]
  },
  {
   "cell_type": "code",
   "execution_count": 26,
   "id": "165d125c",
   "metadata": {},
   "outputs": [
    {
     "name": "stdout",
     "output_type": "stream",
     "text": [
      "Pol: [1 2]\n",
      "Radionice: [1 2]\n",
      "Iskustvo: [0 1 5]\n"
     ]
    }
   ],
   "source": [
    "print(\"Pol:\", df[\"sex\"].unique())\n",
    "print(\"Radionice:\", df[\"workshop\"].unique())\n",
    "print(\"Iskustvo:\", df[\"experience\"].unique())"
   ]
  },
  {
   "cell_type": "code",
   "execution_count": 27,
   "id": "6c345e1b",
   "metadata": {},
   "outputs": [
    {
     "name": "stdout",
     "output_type": "stream",
     "text": [
      "Iskustvo nakon korekcije: [0 1]\n"
     ]
    }
   ],
   "source": [
    "df[\"experience\"] = df[\"experience\"].replace(5, 1)\n",
    "print(\"Iskustvo nakon korekcije:\", df[\"experience\"].unique())"
   ]
  },
  {
   "cell_type": "code",
   "execution_count": 28,
   "id": "8196b592",
   "metadata": {},
   "outputs": [
    {
     "name": "stdout",
     "output_type": "stream",
     "text": [
      "Pol (sex):\n",
      "sex\n",
      "1    105\n",
      "2    103\n",
      "Name: count, dtype: int64\n",
      "\n",
      "Radionice (workshop):\n",
      "workshop\n",
      "1    108\n",
      "2    100\n",
      "Name: count, dtype: int64\n",
      "\n",
      "Iskustvo (experience):\n",
      "experience\n",
      "0    122\n",
      "1     86\n",
      "Name: count, dtype: int64\n"
     ]
    }
   ],
   "source": [
    "print(\"Pol (sex):\")\n",
    "print(df[\"sex\"].value_counts())\n",
    "\n",
    "print(\"\\nRadionice (workshop):\")\n",
    "print(df[\"workshop\"].value_counts())\n",
    "\n",
    "print(\"\\nIskustvo (experience):\")\n",
    "print(df[\"experience\"].value_counts())"
   ]
  },
  {
   "cell_type": "markdown",
   "id": "ba280bf9",
   "metadata": {},
   "source": [
    "##### Provera duplikata"
   ]
  },
  {
   "cell_type": "code",
   "execution_count": 29,
   "id": "4eef4c28",
   "metadata": {},
   "outputs": [
    {
     "name": "stdout",
     "output_type": "stream",
     "text": [
      "Broj duplikata u tabeli: 0\n"
     ]
    }
   ],
   "source": [
    "duplikati = df.duplicated().sum()\n",
    "print(f\"Broj duplikata u tabeli: {duplikati}\")"
   ]
  },
  {
   "cell_type": "code",
   "execution_count": 30,
   "id": "dcee1f49",
   "metadata": {},
   "outputs": [
    {
     "name": "stdout",
     "output_type": "stream",
     "text": [
      "\n",
      "Broj jedinstvenih vrednosti po kolonama:\n",
      "Id             208\n",
      "workshop         2\n",
      "sex              2\n",
      "class            5\n",
      "math             5\n",
      "physics          4\n",
      "informatics      3\n",
      "experience       2\n",
      "i1               3\n",
      "i2               4\n",
      "i3               4\n",
      "i4               3\n",
      "i5               4\n",
      "i6               5\n",
      "i7               4\n",
      "i8               4\n",
      "i9               4\n",
      "i10              5\n",
      "i11              5\n",
      "i12              4\n",
      "i13              4\n",
      "i14              4\n",
      "dtype: int64\n"
     ]
    }
   ],
   "source": [
    "print(\"\\nBroj jedinstvenih vrednosti po kolonama:\")\n",
    "print(df.nunique())"
   ]
  },
  {
   "cell_type": "markdown",
   "id": "416f5e93",
   "metadata": {},
   "source": [
    "##### Histogram raspodele ocena"
   ]
  },
  {
   "cell_type": "code",
   "execution_count": 42,
   "id": "1b2e228b",
   "metadata": {},
   "outputs": [
    {
     "data": {
      "image/png": "[encoded data removed]",
      "text/plain": [
       "<Figure size 1200x400 with 3 Axes>"
      ]
     },
     "metadata": {},
     "output_type": "display_data"
    }
   ],
   "source": [
    "plt.figure(figsize=(12,4))\n",
    "\n",
    "plt.subplot(1,3,1)\n",
    "sns.histplot(df[\"math\"], bins=5, discrete=True)\n",
    "plt.title(\"Raspodela ocena - Matematika\")\n",
    "\n",
    "plt.subplot(1,3,2)\n",
    "sns.histplot(df[\"physics\"], bins=5, discrete=True)\n",
    "plt.title(\"Raspodela ocena - Fizika\")\n",
    "\n",
    "plt.subplot(1,3,3)\n",
    "sns.histplot(df[\"informatics\"], bins=5, discrete=True)\n",
    "plt.title(\"Raspodela ocena - Informatika\")\n",
    "\n",
    "plt.tight_layout()\n",
    "plt.show()"
   ]
  },
  {
   "cell_type": "markdown",
   "id": "e44d5b29",
   "metadata": {},
   "source": [
    "##### Korelacija izmedju varijabli"
   ]
  },
  {
   "cell_type": "code",
   "execution_count": 43,
   "id": "a40080b5",
   "metadata": {},
   "outputs": [
    {
     "data": {
      "image/png": "[encoded data removed]",
      "text/plain": [
       "<Figure size 1200x800 with 2 Axes>"
      ]
     },
     "metadata": {},
     "output_type": "display_data"
    }
   ],
   "source": [
    "# Korelaciona matrica\n",
    "plt.figure(figsize=(12,8))\n",
    "sns.heatmap(df.corr(), annot=False, cmap=\"coolwarm\", center=0)\n",
    "plt.title(\"Korelaciona matrica svih promenljivih\")\n",
    "plt.show()"
   ]
  },
  {
   "cell_type": "markdown",
   "id": "0487cc16",
   "metadata": {},
   "source": [
    "##### Korelacija svake promenljive sa nasom ciljnom promenljivom"
   ]
  },
  {
   "cell_type": "code",
   "execution_count": 44,
   "id": "fb5d3250",
   "metadata": {},
   "outputs": [
    {
     "name": "stdout",
     "output_type": "stream",
     "text": [
      "Korelacija svake promenljive sa i8:\n",
      "\n",
      "i8             1.000000\n",
      "i9             0.364567\n",
      "i7             0.339486\n",
      "i14            0.306492\n",
      "i11            0.270775\n",
      "i13            0.262792\n",
      "i2             0.223009\n",
      "i5             0.220762\n",
      "i1             0.203870\n",
      "i3             0.190751\n",
      "i10            0.175554\n",
      "i6             0.167259\n",
      "i12            0.133818\n",
      "experience     0.127658\n",
      "i4             0.097203\n",
      "workshop       0.041399\n",
      "physics        0.040976\n",
      "informatics    0.031913\n",
      "class          0.010250\n",
      "sex            0.004300\n",
      "math          -0.052921\n",
      "Name: i8, dtype: float64\n"
     ]
    }
   ],
   "source": [
    "# Korelacija sa ciljnom promenljivom i8\n",
    "corr_with_i8 = df.corr()[\"i8\"].sort_values(ascending=False)\n",
    "print(\"Korelacija svake promenljive sa i8:\\n\")\n",
    "print(corr_with_i8)"
   ]
  },
  {
   "cell_type": "markdown",
   "id": "9b27a218",
   "metadata": {},
   "source": [
    "Najvece korelacije sa i8 su druge izjave ucenika: i9, i7. i14, i11.\n",
    "\n",
    "To znaci da ucenici koji su osecali povezanost sa grupom i prilagodjenost uzrastu, kao i vaznost saradnje i aktivnosti za obrazovanje, vise veruju da ovakav nacin ucenja daje bolje rezultate.\n",
    "\n",
    "Takodje, prethodno iskustvo (experience) ima malu, ali pozitivnu korelaciju (0.13) → učenici koji su ranije imali slične radionice malo češće veruju u i8."
   ]
  },
  {
   "cell_type": "markdown",
   "id": "190eb9b8",
   "metadata": {},
   "source": [
    "### Priprema podataka"
   ]
  },
  {
   "cell_type": "code",
   "execution_count": null,
   "id": "e90cd346",
   "metadata": {},
   "outputs": [],
   "source": [
    "df.drop(columns='Id', inplace=True)"
   ]
  },
  {
   "cell_type": "code",
   "execution_count": 33,
   "id": "2026c47a",
   "metadata": {},
   "outputs": [],
   "source": [
    "y = list(df['i8'])\n",
    "features = list(df.columns)\n",
    "features.remove('i8')"
   ]
  },
  {
   "cell_type": "code",
   "execution_count": 35,
   "id": "8be1f80e",
   "metadata": {},
   "outputs": [
    {
     "data": {
      "application/vnd.microsoft.datawrangler.viewer.v0+json": {
       "columns": [
        {
         "name": "index",
         "rawType": "int64",
         "type": "integer"
        },
        {
         "name": "workshop",
         "rawType": "int64",
         "type": "integer"
        },
        {
         "name": "sex",
         "rawType": "int64",
         "type": "integer"
        },
        {
         "name": "class",
         "rawType": "int64",
         "type": "integer"
        },
        {
         "name": "math",
         "rawType": "int64",
         "type": "integer"
        },
        {
         "name": "physics",
         "rawType": "int64",
         "type": "integer"
        },
        {
         "name": "informatics",
         "rawType": "int64",
         "type": "integer"
        },
        {
         "name": "experience",
         "rawType": "int64",
         "type": "integer"
        },
        {
         "name": "i1",
         "rawType": "int64",
         "type": "integer"
        },
        {
         "name": "i2",
         "rawType": "int64",
         "type": "integer"
        },
        {
         "name": "i3",
         "rawType": "int64",
         "type": "integer"
        },
        {
         "name": "i4",
         "rawType": "int64",
         "type": "integer"
        },
        {
         "name": "i5",
         "rawType": "int64",
         "type": "integer"
        },
        {
         "name": "i6",
         "rawType": "int64",
         "type": "integer"
        },
        {
         "name": "i7",
         "rawType": "int64",
         "type": "integer"
        },
        {
         "name": "i9",
         "rawType": "int64",
         "type": "integer"
        },
        {
         "name": "i10",
         "rawType": "int64",
         "type": "integer"
        },
        {
         "name": "i11",
         "rawType": "int64",
         "type": "integer"
        },
        {
         "name": "i12",
         "rawType": "int64",
         "type": "integer"
        },
        {
         "name": "i13",
         "rawType": "int64",
         "type": "integer"
        },
        {
         "name": "i14",
         "rawType": "int64",
         "type": "integer"
        }
       ],
       "ref": "b49b47be-bf12-48f7-90ef-4c9187e0559b",
       "rows": [
        [
         "0",
         "1",
         "1",
         "9",
         "5",
         "5",
         "5",
         "0",
         "5",
         "5",
         "5",
         "5",
         "5",
         "5",
         "5",
         "5",
         "5",
         "5",
         "5",
         "5",
         "5"
        ],
        [
         "1",
         "1",
         "1",
         "10",
         "5",
         "5",
         "5",
         "1",
         "5",
         "5",
         "3",
         "4",
         "5",
         "4",
         "5",
         "5",
         "5",
         "5",
         "5",
         "5",
         "5"
        ],
        [
         "2",
         "1",
         "1",
         "9",
         "3",
         "5",
         "5",
         "1",
         "5",
         "5",
         "5",
         "5",
         "5",
         "5",
         "5",
         "5",
         "3",
         "3",
         "5",
         "5",
         "5"
        ],
        [
         "3",
         "1",
         "1",
         "9",
         "2",
         "4",
         "5",
         "0",
         "5",
         "4",
         "4",
         "4",
         "4",
         "4",
         "5",
         "3",
         "2",
         "3",
         "4",
         "3",
         "5"
        ],
        [
         "4",
         "1",
         "1",
         "9",
         "5",
         "4",
         "5",
         "0",
         "3",
         "2",
         "3",
         "4",
         "5",
         "2",
         "2",
         "4",
         "5",
         "3",
         "5",
         "3",
         "5"
        ]
       ],
       "shape": {
        "columns": 20,
        "rows": 5
       }
      },
      "text/html": [
       "<div>\n",
       "<style scoped>\n",
       "    .dataframe tbody tr th:only-of-type {\n",
       "        vertical-align: middle;\n",
       "    }\n",
       "\n",
       "    .dataframe tbody tr th {\n",
       "        vertical-align: top;\n",
       "    }\n",
       "\n",
       "    .dataframe thead th {\n",
       "        text-align: right;\n",
       "    }\n",
       "</style>\n",
       "<table border=\"1\" class=\"dataframe\">\n",
       "  <thead>\n",
       "    <tr style=\"text-align: right;\">\n",
       "      <th></th>\n",
       "      <th>workshop</th>\n",
       "      <th>sex</th>\n",
       "      <th>class</th>\n",
       "      <th>math</th>\n",
       "      <th>physics</th>\n",
       "      <th>informatics</th>\n",
       "      <th>experience</th>\n",
       "      <th>i1</th>\n",
       "      <th>i2</th>\n",
       "      <th>i3</th>\n",
       "      <th>i4</th>\n",
       "      <th>i5</th>\n",
       "      <th>i6</th>\n",
       "      <th>i7</th>\n",
       "      <th>i9</th>\n",
       "      <th>i10</th>\n",
       "      <th>i11</th>\n",
       "      <th>i12</th>\n",
       "      <th>i13</th>\n",
       "      <th>i14</th>\n",
       "    </tr>\n",
       "  </thead>\n",
       "  <tbody>\n",
       "    <tr>\n",
       "      <th>0</th>\n",
       "      <td>1</td>\n",
       "      <td>1</td>\n",
       "      <td>9</td>\n",
       "      <td>5</td>\n",
       "      <td>5</td>\n",
       "      <td>5</td>\n",
       "      <td>0</td>\n",
       "      <td>5</td>\n",
       "      <td>5</td>\n",
       "      <td>5</td>\n",
       "      <td>5</td>\n",
       "      <td>5</td>\n",
       "      <td>5</td>\n",
       "      <td>5</td>\n",
       "      <td>5</td>\n",
       "      <td>5</td>\n",
       "      <td>5</td>\n",
       "      <td>5</td>\n",
       "      <td>5</td>\n",
       "      <td>5</td>\n",
       "    </tr>\n",
       "    <tr>\n",
       "      <th>1</th>\n",
       "      <td>1</td>\n",
       "      <td>1</td>\n",
       "      <td>10</td>\n",
       "      <td>5</td>\n",
       "      <td>5</td>\n",
       "      <td>5</td>\n",
       "      <td>1</td>\n",
       "      <td>5</td>\n",
       "      <td>5</td>\n",
       "      <td>3</td>\n",
       "      <td>4</td>\n",
       "      <td>5</td>\n",
       "      <td>4</td>\n",
       "      <td>5</td>\n",
       "      <td>5</td>\n",
       "      <td>5</td>\n",
       "      <td>5</td>\n",
       "      <td>5</td>\n",
       "      <td>5</td>\n",
       "      <td>5</td>\n",
       "    </tr>\n",
       "    <tr>\n",
       "      <th>2</th>\n",
       "      <td>1</td>\n",
       "      <td>1</td>\n",
       "      <td>9</td>\n",
       "      <td>3</td>\n",
       "      <td>5</td>\n",
       "      <td>5</td>\n",
       "      <td>1</td>\n",
       "      <td>5</td>\n",
       "      <td>5</td>\n",
       "      <td>5</td>\n",
       "      <td>5</td>\n",
       "      <td>5</td>\n",
       "      <td>5</td>\n",
       "      <td>5</td>\n",
       "      <td>5</td>\n",
       "      <td>3</td>\n",
       "      <td>3</td>\n",
       "      <td>5</td>\n",
       "      <td>5</td>\n",
       "      <td>5</td>\n",
       "    </tr>\n",
       "    <tr>\n",
       "      <th>3</th>\n",
       "      <td>1</td>\n",
       "      <td>1</td>\n",
       "      <td>9</td>\n",
       "      <td>2</td>\n",
       "      <td>4</td>\n",
       "      <td>5</td>\n",
       "      <td>0</td>\n",
       "      <td>5</td>\n",
       "      <td>4</td>\n",
       "      <td>4</td>\n",
       "      <td>4</td>\n",
       "      <td>4</td>\n",
       "      <td>4</td>\n",
       "      <td>5</td>\n",
       "      <td>3</td>\n",
       "      <td>2</td>\n",
       "      <td>3</td>\n",
       "      <td>4</td>\n",
       "      <td>3</td>\n",
       "      <td>5</td>\n",
       "    </tr>\n",
       "    <tr>\n",
       "      <th>4</th>\n",
       "      <td>1</td>\n",
       "      <td>1</td>\n",
       "      <td>9</td>\n",
       "      <td>5</td>\n",
       "      <td>4</td>\n",
       "      <td>5</td>\n",
       "      <td>0</td>\n",
       "      <td>3</td>\n",
       "      <td>2</td>\n",
       "      <td>3</td>\n",
       "      <td>4</td>\n",
       "      <td>5</td>\n",
       "      <td>2</td>\n",
       "      <td>2</td>\n",
       "      <td>4</td>\n",
       "      <td>5</td>\n",
       "      <td>3</td>\n",
       "      <td>5</td>\n",
       "      <td>3</td>\n",
       "      <td>5</td>\n",
       "    </tr>\n",
       "  </tbody>\n",
       "</table>\n",
       "</div>"
      ],
      "text/plain": [
       "   workshop  sex  class  math  physics  informatics  experience  i1  i2  i3  \\\n",
       "0         1    1      9     5        5            5           0   5   5   5   \n",
       "1         1    1     10     5        5            5           1   5   5   3   \n",
       "2         1    1      9     3        5            5           1   5   5   5   \n",
       "3         1    1      9     2        4            5           0   5   4   4   \n",
       "4         1    1      9     5        4            5           0   3   2   3   \n",
       "\n",
       "   i4  i5  i6  i7  i9  i10  i11  i12  i13  i14  \n",
       "0   5   5   5   5   5    5    5    5    5    5  \n",
       "1   4   5   4   5   5    5    5    5    5    5  \n",
       "2   5   5   5   5   5    3    3    5    5    5  \n",
       "3   4   4   4   5   3    2    3    4    3    5  \n",
       "4   4   5   2   2   4    5    3    5    3    5  "
      ]
     },
     "execution_count": 35,
     "metadata": {},
     "output_type": "execute_result"
    }
   ],
   "source": [
    "#iz pandas pretvaramo u numpy\n",
    "X = df.loc[:, features]\n",
    "X.head()"
   ]
  },
  {
   "cell_type": "code",
   "execution_count": 38,
   "id": "93b731ab",
   "metadata": {},
   "outputs": [
    {
     "name": "stdout",
     "output_type": "stream",
     "text": [
      "[5, 5, 5, 5, 3, 4, 5, 3, 4, 4, 5, 5, 5, 4, 4, 3, 4, 4, 3, 4, 5, 4, 2, 5, 4, 2, 4, 5, 4, 5, 5, 5, 5, 5, 3, 4, 4, 4, 5, 5, 4, 5, 5, 4, 5, 5, 4, 5, 5, 5, 5, 4, 5, 5, 5, 5, 4, 4, 4, 5, 3, 5, 4, 5, 3, 4, 3, 4, 4, 4, 4, 4, 5, 4, 5, 5, 5, 5, 5, 5, 5, 3, 5, 5, 4, 5, 5, 4, 5, 5, 3, 4, 5, 5, 5, 5, 4, 5, 4, 4, 4, 4, 5, 2, 5, 2, 5, 5, 4, 5, 2, 5, 4, 5, 5, 5, 5, 5, 5, 5, 4, 5, 4, 4, 3, 4, 5, 5, 5, 4, 5, 3, 4, 5, 5, 5, 4, 3, 4, 3, 4, 5, 2, 4, 2, 4, 5, 5, 5, 5, 3, 4, 4, 4, 5, 5, 4, 5, 4, 5, 5, 5, 4, 4, 4, 5, 3, 5, 4, 5, 4, 4, 4, 4, 5, 5, 5, 5, 3, 5, 4, 5, 5, 3, 4, 5, 5, 5, 5, 4, 4, 4, 5, 2, 5, 5, 5, 4, 5, 5, 5, 5, 5, 4, 5, 4, 4, 4]\n"
     ]
    }
   ],
   "source": [
    "print(y)"
   ]
  },
  {
   "cell_type": "code",
   "execution_count": 47,
   "id": "454916b2",
   "metadata": {},
   "outputs": [
    {
     "name": "stdout",
     "output_type": "stream",
     "text": [
      "[3 3 3 3 1 2 3 1 2 2 3 3 3 2 2 1 2 2 1 2 3 2 0 3 2 0 2 3 2 3 3 3 3 3 1 2 2\n",
      " 2 3 3 2 3 3 2 3 3 2 3 3 3 3 2 3 3 3 3 2 2 2 3 1 3 2 3 1 2 1 2 2 2 2 2 3 2\n",
      " 3 3 3 3 3 3 3 1 3 3 2 3 3 2 3 3 1 2 3 3 3 3 2 3 2 2 2 2 3 0 3 0 3 3 2 3 0\n",
      " 3 2 3 3 3 3 3 3 3 2 3 2 2 1 2 3 3 3 2 3 1 2 3 3 3 2 1 2 1 2 3 0 2 0 2 3 3\n",
      " 3 3 1 2 2 2 3 3 2 3 2 3 3 3 2 2 2 3 1 3 2 3 2 2 2 2 3 3 3 3 1 3 2 3 3 1 2\n",
      " 3 3 3 3 2 2 2 3 0 3 3 3 2 3 3 3 3 3 2 3 2 2 2]\n"
     ]
    }
   ],
   "source": [
    "from sklearn.preprocessing import LabelEncoder\n",
    "\n",
    "label = LabelEncoder()\n",
    "y_label = label.fit_transform(y)\n",
    "\n",
    "# Fali nam 1 pa koristimo enkoder\n",
    "print(y_label)"
   ]
  },
  {
   "cell_type": "markdown",
   "id": "227ce23a",
   "metadata": {},
   "source": [
    "##### Uklanjanje outlajkera"
   ]
  },
  {
   "cell_type": "code",
   "execution_count": 59,
   "id": "14dc238c",
   "metadata": {},
   "outputs": [],
   "source": [
    "from sklearn.ensemble import IsolationForest\n",
    "import numpy as np\n",
    "\n",
    "out = IsolationForest(contamination = 0.1)\n",
    "y_pred = out.fit_predict(X)"
   ]
  },
  {
   "cell_type": "code",
   "execution_count": 94,
   "id": "6cfc7185",
   "metadata": {},
   "outputs": [
    {
     "data": {
      "image/png": "[encoded data removed]",
      "text/plain": [
       "<Figure size 1000x800 with 2 Axes>"
      ]
     },
     "metadata": {},
     "output_type": "display_data"
    }
   ],
   "source": [
    "from sklearn.decomposition import PCA\n",
    "pca = PCA(n_components=2)\n",
    "data_reduced = pca.fit_transform(X)\n",
    "\n",
    "plt.figure(figsize=(10, 8))\n",
    "plt.scatter(data_reduced[:, 0], data_reduced[:, 1], c=y_pred, cmap='viridis')\n",
    "plt.colorbar()\n",
    "plt.title('Outliers detected by Isolation Forest')\n",
    "plt.xticks([])\n",
    "plt.yticks([])\n",
    "plt.savefig('outliers_iso_forest.png')\n",
    "plt.show()"
   ]
  },
  {
   "cell_type": "code",
   "execution_count": 60,
   "id": "2c6f4ef9",
   "metadata": {},
   "outputs": [
    {
     "data": {
      "text/plain": [
       "array([ 1,  1,  1,  1, -1,  1,  1,  1,  1,  1,  1,  1,  1,  1,  1,  1,  1,\n",
       "       -1,  1, -1,  1,  1,  1,  1,  1, -1, -1,  1,  1,  1,  1,  1,  1,  1,\n",
       "        1,  1,  1,  1,  1,  1,  1,  1,  1,  1,  1,  1,  1,  1,  1,  1,  1,\n",
       "        1,  1,  1,  1,  1,  1,  1,  1,  1,  1,  1,  1,  1, -1, -1,  1, -1,\n",
       "        1, -1,  1,  1,  1,  1,  1,  1,  1,  1,  1,  1,  1,  1,  1,  1,  1,\n",
       "        1,  1,  1,  1,  1,  1, -1,  1,  1,  1,  1,  1,  1,  1,  1,  1,  1,\n",
       "        1,  1,  1, -1,  1, -1,  1,  1, -1, -1,  1,  1,  1,  1,  1,  1,  1,\n",
       "        1,  1,  1,  1,  1,  1,  1,  1,  1,  1,  1,  1,  1,  1,  1,  1,  1,\n",
       "        1,  1,  1,  1, -1,  1,  1,  1, -1, -1,  1,  1,  1,  1,  1,  1,  1,\n",
       "        1,  1,  1,  1,  1,  1,  1,  1,  1,  1,  1,  1,  1,  1,  1,  1,  1,\n",
       "       -1,  1, -1,  1,  1,  1,  1,  1,  1,  1,  1,  1,  1,  1, -1,  1,  1,\n",
       "        1,  1,  1,  1,  1,  1,  1,  1,  1, -1,  1,  1,  1,  1,  1,  1,  1,\n",
       "        1,  1,  1,  1])"
      ]
     },
     "execution_count": 60,
     "metadata": {},
     "output_type": "execute_result"
    }
   ],
   "source": [
    "y_pred"
   ]
  },
  {
   "cell_type": "code",
   "execution_count": 62,
   "id": "6fb8a764",
   "metadata": {},
   "outputs": [
    {
     "name": "stdout",
     "output_type": "stream",
     "text": [
      "     workshop  sex  class  math  physics  informatics  experience  i1  i2  i3  \\\n",
      "0           1    1      9     5        5            5           0   5   5   5   \n",
      "1           1    1     10     5        5            5           1   5   5   3   \n",
      "2           1    1      9     3        5            5           1   5   5   5   \n",
      "3           1    1      9     2        4            5           0   5   4   4   \n",
      "5           1    1      9     5        5            5           1   4   4   5   \n",
      "..        ...  ...    ...   ...      ...          ...         ...  ..  ..  ..   \n",
      "203         2    1      8     4        4            5           1   5   5   5   \n",
      "204         2    1      8     4        5            5           1   5   4   5   \n",
      "205         2    1      8     5        4            5           0   5   5   5   \n",
      "206         2    1      8     5        5            5           0   5   4   5   \n",
      "207         2    1      8     3        4            5           0   4   4   5   \n",
      "\n",
      "     i4  i5  i6  i7  i9  i10  i11  i12  i13  i14  \n",
      "0     5   5   5   5   5    5    5    5    5    5  \n",
      "1     4   5   4   5   5    5    5    5    5    5  \n",
      "2     5   5   5   5   5    3    3    5    5    5  \n",
      "3     4   4   4   5   3    2    3    4    3    5  \n",
      "5     5   4   3   4   5    4    4    3    4    4  \n",
      "..   ..  ..  ..  ..  ..  ...  ...  ...  ...  ...  \n",
      "203   5   4   4   4   3    3    4    4    5    4  \n",
      "204   5   4   4   4   3    3    4    4    4    4  \n",
      "205   5   5   4   5   3    3    4    4    5    4  \n",
      "206   5   4   5   5   5    5    4    4    4    5  \n",
      "207   5   4   3   4   4    3    4    4    4    4  \n",
      "\n",
      "[187 rows x 20 columns]\n",
      "[3 3 3 3 2 3 1 2 2 3 3 3 2 2 1 2 1 3 2 0 3 2 3 2 3 3 3 3 3 1 2 2 2 3 3 2 3\n",
      " 3 2 3 3 2 3 3 3 3 2 3 3 3 3 2 2 2 3 1 3 2 3 1 2 2 2 3 2 3 3 3 3 3 3 3 1 3\n",
      " 3 2 3 3 2 3 3 1 3 3 3 3 2 3 2 2 2 2 3 0 3 3 2 3 2 3 3 3 3 3 3 3 2 3 2 2 1\n",
      " 2 3 3 3 2 3 1 2 3 3 3 2 1 2 1 3 0 2 3 3 3 3 1 2 2 2 3 3 2 3 2 3 3 3 2 2 2\n",
      " 3 1 3 2 3 2 2 3 3 3 3 1 3 2 3 3 1 3 3 3 3 2 2 2 3 0 3 3 2 3 3 3 3 3 2 3 2\n",
      " 2 2]\n"
     ]
    }
   ],
   "source": [
    "X_clear = X[y_pred == 1]\n",
    "y_clear = y_label[y_pred == 1]\n",
    "\n",
    "print(X_clear)\n",
    "print(y_clear)"
   ]
  },
  {
   "cell_type": "code",
   "execution_count": 64,
   "id": "4b37600f",
   "metadata": {},
   "outputs": [
    {
     "name": "stdout",
     "output_type": "stream",
     "text": [
      "(208, 20)\n",
      "(187, 20)\n",
      "------------\n",
      "(208,)\n",
      "(187,)\n"
     ]
    }
   ],
   "source": [
    "print(X.shape)\n",
    "print(X_clear.shape)\n",
    "\n",
    "print(\"------------\")\n",
    "print(y_label.shape)\n",
    "print(y_clear.shape)"
   ]
  },
  {
   "cell_type": "markdown",
   "id": "f5b2d3ce",
   "metadata": {},
   "source": [
    "##### Modeli"
   ]
  },
  {
   "cell_type": "code",
   "execution_count": 67,
   "id": "dc0c2a67",
   "metadata": {},
   "outputs": [],
   "source": [
    "from sklearn.neural_network import MLPClassifier\n",
    "from sklearn.tree import DecisionTreeClassifier\n",
    "from sklearn.svm import SVC\n",
    "from sklearn.ensemble import RandomForestClassifier, GradientBoostingClassifier\n",
    "from xgboost import XGBClassifier\n",
    "from sklearn.linear_model import LogisticRegression"
   ]
  },
  {
   "cell_type": "code",
   "execution_count": 68,
   "id": "99c8c336",
   "metadata": {},
   "outputs": [],
   "source": [
    "classifiers = [\n",
    "    (\"LogisticRegression\", LogisticRegression(max_iter=1000)),\n",
    "    (\"DecisionTree\", DecisionTreeClassifier(random_state=42)),\n",
    "    (\"RandomForest\", RandomForestClassifier(random_state=42)),\n",
    "    (\"GradientBoosting\", GradientBoostingClassifier(random_state=42)),\n",
    "    (\"SVM\", SVC()),\n",
    "    (\"MLP\", MLPClassifier(max_iter=1000, random_state=42)),\n",
    "    (\"XGBoost\", XGBClassifier(use_label_encoder=False, eval_metric=\"mlogloss\", random_state=42))\n",
    "]"
   ]
  },
  {
   "cell_type": "markdown",
   "id": "7b112e5e",
   "metadata": {},
   "source": [
    "Pravicemo kros validaciju za podatke jer imamo jako mali skup podataka"
   ]
  },
  {
   "cell_type": "code",
   "execution_count": 69,
   "id": "1483b5be",
   "metadata": {},
   "outputs": [],
   "source": [
    "from sklearn.model_selection import cross_validate"
   ]
  },
  {
   "cell_type": "code",
   "execution_count": 70,
   "id": "8e6dbc95",
   "metadata": {},
   "outputs": [],
   "source": [
    "scoring = {\n",
    "    'accuracy': 'accuracy',\n",
    "    'f1_macro': 'f1_macro'\n",
    "}"
   ]
  },
  {
   "cell_type": "code",
   "execution_count": 81,
   "id": "bcade3e0",
   "metadata": {},
   "outputs": [],
   "source": [
    "# Funkcija za evaluaciju liste modela\n",
    "def evaluate_models(models, X, y, cv=10):\n",
    "    results = {}\n",
    "    for name, model in models:\n",
    "        scores = cross_validate(model, X, y, cv=cv, scoring=scoring)\n",
    "        results[name] = {\n",
    "            \"Accuracy\": scores['test_accuracy'].mean(),\n",
    "            \"F1-macro\": scores['test_f1_macro'].mean()\n",
    "        }\n",
    "    return pd.DataFrame(results).T.sort_values(by=\"Accuracy\", ascending=False)"
   ]
  },
  {
   "cell_type": "code",
   "execution_count": null,
   "id": "fc2de808",
   "metadata": {},
   "outputs": [
    {
     "name": "stderr",
     "output_type": "stream",
     "text": [
      "c:\\Users\\marij\\Desktop\\Faks\\2024-25\\Letnji\\Inteligentni Sistemi\\Seminarski\\venv\\Lib\\site-packages\\sklearn\\model_selection\\_split.py:811: UserWarning: The least populated class in y has only 8 members, which is less than n_splits=10.\n",
      "  warnings.warn(\n",
      "c:\\Users\\marij\\Desktop\\Faks\\2024-25\\Letnji\\Inteligentni Sistemi\\Seminarski\\venv\\Lib\\site-packages\\sklearn\\model_selection\\_split.py:811: UserWarning: The least populated class in y has only 8 members, which is less than n_splits=10.\n",
      "  warnings.warn(\n",
      "c:\\Users\\marij\\Desktop\\Faks\\2024-25\\Letnji\\Inteligentni Sistemi\\Seminarski\\venv\\Lib\\site-packages\\sklearn\\model_selection\\_split.py:811: UserWarning: The least populated class in y has only 8 members, which is less than n_splits=10.\n",
      "  warnings.warn(\n",
      "c:\\Users\\marij\\Desktop\\Faks\\2024-25\\Letnji\\Inteligentni Sistemi\\Seminarski\\venv\\Lib\\site-packages\\sklearn\\model_selection\\_split.py:811: UserWarning: The least populated class in y has only 8 members, which is less than n_splits=10.\n",
      "  warnings.warn(\n",
      "c:\\Users\\marij\\Desktop\\Faks\\2024-25\\Letnji\\Inteligentni Sistemi\\Seminarski\\venv\\Lib\\site-packages\\sklearn\\model_selection\\_split.py:811: UserWarning: The least populated class in y has only 8 members, which is less than n_splits=10.\n",
      "  warnings.warn(\n",
      "c:\\Users\\marij\\Desktop\\Faks\\2024-25\\Letnji\\Inteligentni Sistemi\\Seminarski\\venv\\Lib\\site-packages\\sklearn\\model_selection\\_split.py:811: UserWarning: The least populated class in y has only 8 members, which is less than n_splits=10.\n",
      "  warnings.warn(\n",
      "c:\\Users\\marij\\Desktop\\Faks\\2024-25\\Letnji\\Inteligentni Sistemi\\Seminarski\\venv\\Lib\\site-packages\\sklearn\\model_selection\\_split.py:811: UserWarning: The least populated class in y has only 8 members, which is less than n_splits=10.\n",
      "  warnings.warn(\n",
      "c:\\Users\\marij\\Desktop\\Faks\\2024-25\\Letnji\\Inteligentni Sistemi\\Seminarski\\venv\\Lib\\site-packages\\xgboost\\training.py:183: UserWarning: [02:28:19] WARNING: C:\\actions-runner\\_work\\xgboost\\xgboost\\src\\learner.cc:738: \n",
      "Parameters: { \"use_label_encoder\" } are not used.\n",
      "\n",
      "  bst.update(dtrain, iteration=i, fobj=obj)\n",
      "c:\\Users\\marij\\Desktop\\Faks\\2024-25\\Letnji\\Inteligentni Sistemi\\Seminarski\\venv\\Lib\\site-packages\\xgboost\\training.py:183: UserWarning: [02:28:20] WARNING: C:\\actions-runner\\_work\\xgboost\\xgboost\\src\\learner.cc:738: \n",
      "Parameters: { \"use_label_encoder\" } are not used.\n",
      "\n",
      "  bst.update(dtrain, iteration=i, fobj=obj)\n",
      "c:\\Users\\marij\\Desktop\\Faks\\2024-25\\Letnji\\Inteligentni Sistemi\\Seminarski\\venv\\Lib\\site-packages\\xgboost\\training.py:183: UserWarning: [02:28:20] WARNING: C:\\actions-runner\\_work\\xgboost\\xgboost\\src\\learner.cc:738: \n",
      "Parameters: { \"use_label_encoder\" } are not used.\n",
      "\n",
      "  bst.update(dtrain, iteration=i, fobj=obj)\n",
      "c:\\Users\\marij\\Desktop\\Faks\\2024-25\\Letnji\\Inteligentni Sistemi\\Seminarski\\venv\\Lib\\site-packages\\xgboost\\training.py:183: UserWarning: [02:28:20] WARNING: C:\\actions-runner\\_work\\xgboost\\xgboost\\src\\learner.cc:738: \n",
      "Parameters: { \"use_label_encoder\" } are not used.\n",
      "\n",
      "  bst.update(dtrain, iteration=i, fobj=obj)\n",
      "c:\\Users\\marij\\Desktop\\Faks\\2024-25\\Letnji\\Inteligentni Sistemi\\Seminarski\\venv\\Lib\\site-packages\\xgboost\\training.py:183: UserWarning: [02:28:20] WARNING: C:\\actions-runner\\_work\\xgboost\\xgboost\\src\\learner.cc:738: \n",
      "Parameters: { \"use_label_encoder\" } are not used.\n",
      "\n",
      "  bst.update(dtrain, iteration=i, fobj=obj)\n",
      "c:\\Users\\marij\\Desktop\\Faks\\2024-25\\Letnji\\Inteligentni Sistemi\\Seminarski\\venv\\Lib\\site-packages\\xgboost\\training.py:183: UserWarning: [02:28:20] WARNING: C:\\actions-runner\\_work\\xgboost\\xgboost\\src\\learner.cc:738: \n",
      "Parameters: { \"use_label_encoder\" } are not used.\n",
      "\n",
      "  bst.update(dtrain, iteration=i, fobj=obj)\n",
      "c:\\Users\\marij\\Desktop\\Faks\\2024-25\\Letnji\\Inteligentni Sistemi\\Seminarski\\venv\\Lib\\site-packages\\xgboost\\training.py:183: UserWarning: [02:28:21] WARNING: C:\\actions-runner\\_work\\xgboost\\xgboost\\src\\learner.cc:738: \n",
      "Parameters: { \"use_label_encoder\" } are not used.\n",
      "\n",
      "  bst.update(dtrain, iteration=i, fobj=obj)\n",
      "c:\\Users\\marij\\Desktop\\Faks\\2024-25\\Letnji\\Inteligentni Sistemi\\Seminarski\\venv\\Lib\\site-packages\\xgboost\\training.py:183: UserWarning: [02:28:21] WARNING: C:\\actions-runner\\_work\\xgboost\\xgboost\\src\\learner.cc:738: \n",
      "Parameters: { \"use_label_encoder\" } are not used.\n",
      "\n",
      "  bst.update(dtrain, iteration=i, fobj=obj)\n",
      "c:\\Users\\marij\\Desktop\\Faks\\2024-25\\Letnji\\Inteligentni Sistemi\\Seminarski\\venv\\Lib\\site-packages\\xgboost\\training.py:183: UserWarning: [02:28:21] WARNING: C:\\actions-runner\\_work\\xgboost\\xgboost\\src\\learner.cc:738: \n",
      "Parameters: { \"use_label_encoder\" } are not used.\n",
      "\n",
      "  bst.update(dtrain, iteration=i, fobj=obj)\n",
      "c:\\Users\\marij\\Desktop\\Faks\\2024-25\\Letnji\\Inteligentni Sistemi\\Seminarski\\venv\\Lib\\site-packages\\xgboost\\training.py:183: UserWarning: [02:28:21] WARNING: C:\\actions-runner\\_work\\xgboost\\xgboost\\src\\learner.cc:738: \n",
      "Parameters: { \"use_label_encoder\" } are not used.\n",
      "\n",
      "  bst.update(dtrain, iteration=i, fobj=obj)\n",
      "c:\\Users\\marij\\Desktop\\Faks\\2024-25\\Letnji\\Inteligentni Sistemi\\Seminarski\\venv\\Lib\\site-packages\\sklearn\\model_selection\\_split.py:811: UserWarning: The least populated class in y has only 4 members, which is less than n_splits=10.\n",
      "  warnings.warn(\n",
      "c:\\Users\\marij\\Desktop\\Faks\\2024-25\\Letnji\\Inteligentni Sistemi\\Seminarski\\venv\\Lib\\site-packages\\sklearn\\linear_model\\_logistic.py:473: ConvergenceWarning: lbfgs failed to converge after 1000 iteration(s) (status=1):\n",
      "STOP: TOTAL NO. OF ITERATIONS REACHED LIMIT\n",
      "\n",
      "Increase the number of iterations to improve the convergence (max_iter=1000).\n",
      "You might also want to scale the data as shown in:\n",
      "    https://scikit-learn.org/stable/modules/preprocessing.html\n",
      "Please also refer to the documentation for alternative solver options:\n",
      "    https://scikit-learn.org/stable/modules/linear_model.html#logistic-regression\n",
      "  n_iter_i = _check_optimize_result(\n",
      "c:\\Users\\marij\\Desktop\\Faks\\2024-25\\Letnji\\Inteligentni Sistemi\\Seminarski\\venv\\Lib\\site-packages\\sklearn\\linear_model\\_logistic.py:473: ConvergenceWarning: lbfgs failed to converge after 1000 iteration(s) (status=1):\n",
      "STOP: TOTAL NO. OF ITERATIONS REACHED LIMIT\n",
      "\n",
      "Increase the number of iterations to improve the convergence (max_iter=1000).\n",
      "You might also want to scale the data as shown in:\n",
      "    https://scikit-learn.org/stable/modules/preprocessing.html\n",
      "Please also refer to the documentation for alternative solver options:\n",
      "    https://scikit-learn.org/stable/modules/linear_model.html#logistic-regression\n",
      "  n_iter_i = _check_optimize_result(\n",
      "c:\\Users\\marij\\Desktop\\Faks\\2024-25\\Letnji\\Inteligentni Sistemi\\Seminarski\\venv\\Lib\\site-packages\\sklearn\\linear_model\\_logistic.py:473: ConvergenceWarning: lbfgs failed to converge after 1000 iteration(s) (status=1):\n",
      "STOP: TOTAL NO. OF ITERATIONS REACHED LIMIT\n",
      "\n",
      "Increase the number of iterations to improve the convergence (max_iter=1000).\n",
      "You might also want to scale the data as shown in:\n",
      "    https://scikit-learn.org/stable/modules/preprocessing.html\n",
      "Please also refer to the documentation for alternative solver options:\n",
      "    https://scikit-learn.org/stable/modules/linear_model.html#logistic-regression\n",
      "  n_iter_i = _check_optimize_result(\n",
      "c:\\Users\\marij\\Desktop\\Faks\\2024-25\\Letnji\\Inteligentni Sistemi\\Seminarski\\venv\\Lib\\site-packages\\sklearn\\linear_model\\_logistic.py:473: ConvergenceWarning: lbfgs failed to converge after 1000 iteration(s) (status=1):\n",
      "STOP: TOTAL NO. OF ITERATIONS REACHED LIMIT\n",
      "\n",
      "Increase the number of iterations to improve the convergence (max_iter=1000).\n",
      "You might also want to scale the data as shown in:\n",
      "    https://scikit-learn.org/stable/modules/preprocessing.html\n",
      "Please also refer to the documentation for alternative solver options:\n",
      "    https://scikit-learn.org/stable/modules/linear_model.html#logistic-regression\n",
      "  n_iter_i = _check_optimize_result(\n",
      "c:\\Users\\marij\\Desktop\\Faks\\2024-25\\Letnji\\Inteligentni Sistemi\\Seminarski\\venv\\Lib\\site-packages\\sklearn\\linear_model\\_logistic.py:473: ConvergenceWarning: lbfgs failed to converge after 1000 iteration(s) (status=1):\n",
      "STOP: TOTAL NO. OF ITERATIONS REACHED LIMIT\n",
      "\n",
      "Increase the number of iterations to improve the convergence (max_iter=1000).\n",
      "You might also want to scale the data as shown in:\n",
      "    https://scikit-learn.org/stable/modules/preprocessing.html\n",
      "Please also refer to the documentation for alternative solver options:\n",
      "    https://scikit-learn.org/stable/modules/linear_model.html#logistic-regression\n",
      "  n_iter_i = _check_optimize_result(\n",
      "c:\\Users\\marij\\Desktop\\Faks\\2024-25\\Letnji\\Inteligentni Sistemi\\Seminarski\\venv\\Lib\\site-packages\\sklearn\\model_selection\\_split.py:811: UserWarning: The least populated class in y has only 4 members, which is less than n_splits=10.\n",
      "  warnings.warn(\n",
      "c:\\Users\\marij\\Desktop\\Faks\\2024-25\\Letnji\\Inteligentni Sistemi\\Seminarski\\venv\\Lib\\site-packages\\sklearn\\model_selection\\_split.py:811: UserWarning: The least populated class in y has only 4 members, which is less than n_splits=10.\n",
      "  warnings.warn(\n",
      "c:\\Users\\marij\\Desktop\\Faks\\2024-25\\Letnji\\Inteligentni Sistemi\\Seminarski\\venv\\Lib\\site-packages\\sklearn\\model_selection\\_split.py:811: UserWarning: The least populated class in y has only 4 members, which is less than n_splits=10.\n",
      "  warnings.warn(\n",
      "c:\\Users\\marij\\Desktop\\Faks\\2024-25\\Letnji\\Inteligentni Sistemi\\Seminarski\\venv\\Lib\\site-packages\\sklearn\\model_selection\\_split.py:811: UserWarning: The least populated class in y has only 4 members, which is less than n_splits=10.\n",
      "  warnings.warn(\n",
      "c:\\Users\\marij\\Desktop\\Faks\\2024-25\\Letnji\\Inteligentni Sistemi\\Seminarski\\venv\\Lib\\site-packages\\sklearn\\model_selection\\_split.py:811: UserWarning: The least populated class in y has only 4 members, which is less than n_splits=10.\n",
      "  warnings.warn(\n",
      "c:\\Users\\marij\\Desktop\\Faks\\2024-25\\Letnji\\Inteligentni Sistemi\\Seminarski\\venv\\Lib\\site-packages\\sklearn\\model_selection\\_split.py:811: UserWarning: The least populated class in y has only 4 members, which is less than n_splits=10.\n",
      "  warnings.warn(\n",
      "c:\\Users\\marij\\Desktop\\Faks\\2024-25\\Letnji\\Inteligentni Sistemi\\Seminarski\\venv\\Lib\\site-packages\\xgboost\\training.py:183: UserWarning: [02:28:32] WARNING: C:\\actions-runner\\_work\\xgboost\\xgboost\\src\\learner.cc:738: \n",
      "Parameters: { \"use_label_encoder\" } are not used.\n",
      "\n",
      "  bst.update(dtrain, iteration=i, fobj=obj)\n",
      "c:\\Users\\marij\\Desktop\\Faks\\2024-25\\Letnji\\Inteligentni Sistemi\\Seminarski\\venv\\Lib\\site-packages\\xgboost\\training.py:183: UserWarning: [02:28:32] WARNING: C:\\actions-runner\\_work\\xgboost\\xgboost\\src\\learner.cc:738: \n",
      "Parameters: { \"use_label_encoder\" } are not used.\n",
      "\n",
      "  bst.update(dtrain, iteration=i, fobj=obj)\n",
      "c:\\Users\\marij\\Desktop\\Faks\\2024-25\\Letnji\\Inteligentni Sistemi\\Seminarski\\venv\\Lib\\site-packages\\xgboost\\training.py:183: UserWarning: [02:28:32] WARNING: C:\\actions-runner\\_work\\xgboost\\xgboost\\src\\learner.cc:738: \n",
      "Parameters: { \"use_label_encoder\" } are not used.\n",
      "\n",
      "  bst.update(dtrain, iteration=i, fobj=obj)\n",
      "c:\\Users\\marij\\Desktop\\Faks\\2024-25\\Letnji\\Inteligentni Sistemi\\Seminarski\\venv\\Lib\\site-packages\\xgboost\\training.py:183: UserWarning: [02:28:32] WARNING: C:\\actions-runner\\_work\\xgboost\\xgboost\\src\\learner.cc:738: \n",
      "Parameters: { \"use_label_encoder\" } are not used.\n",
      "\n",
      "  bst.update(dtrain, iteration=i, fobj=obj)\n",
      "c:\\Users\\marij\\Desktop\\Faks\\2024-25\\Letnji\\Inteligentni Sistemi\\Seminarski\\venv\\Lib\\site-packages\\xgboost\\training.py:183: UserWarning: [02:28:32] WARNING: C:\\actions-runner\\_work\\xgboost\\xgboost\\src\\learner.cc:738: \n",
      "Parameters: { \"use_label_encoder\" } are not used.\n",
      "\n",
      "  bst.update(dtrain, iteration=i, fobj=obj)\n",
      "c:\\Users\\marij\\Desktop\\Faks\\2024-25\\Letnji\\Inteligentni Sistemi\\Seminarski\\venv\\Lib\\site-packages\\xgboost\\training.py:183: UserWarning: [02:28:33] WARNING: C:\\actions-runner\\_work\\xgboost\\xgboost\\src\\learner.cc:738: \n",
      "Parameters: { \"use_label_encoder\" } are not used.\n",
      "\n",
      "  bst.update(dtrain, iteration=i, fobj=obj)\n",
      "c:\\Users\\marij\\Desktop\\Faks\\2024-25\\Letnji\\Inteligentni Sistemi\\Seminarski\\venv\\Lib\\site-packages\\xgboost\\training.py:183: UserWarning: [02:28:33] WARNING: C:\\actions-runner\\_work\\xgboost\\xgboost\\src\\learner.cc:738: \n",
      "Parameters: { \"use_label_encoder\" } are not used.\n",
      "\n",
      "  bst.update(dtrain, iteration=i, fobj=obj)\n",
      "c:\\Users\\marij\\Desktop\\Faks\\2024-25\\Letnji\\Inteligentni Sistemi\\Seminarski\\venv\\Lib\\site-packages\\xgboost\\training.py:183: UserWarning: [02:28:33] WARNING: C:\\actions-runner\\_work\\xgboost\\xgboost\\src\\learner.cc:738: \n",
      "Parameters: { \"use_label_encoder\" } are not used.\n",
      "\n",
      "  bst.update(dtrain, iteration=i, fobj=obj)\n",
      "c:\\Users\\marij\\Desktop\\Faks\\2024-25\\Letnji\\Inteligentni Sistemi\\Seminarski\\venv\\Lib\\site-packages\\xgboost\\training.py:183: UserWarning: [02:28:33] WARNING: C:\\actions-runner\\_work\\xgboost\\xgboost\\src\\learner.cc:738: \n",
      "Parameters: { \"use_label_encoder\" } are not used.\n",
      "\n",
      "  bst.update(dtrain, iteration=i, fobj=obj)\n",
      "c:\\Users\\marij\\Desktop\\Faks\\2024-25\\Letnji\\Inteligentni Sistemi\\Seminarski\\venv\\Lib\\site-packages\\xgboost\\training.py:183: UserWarning: [02:28:33] WARNING: C:\\actions-runner\\_work\\xgboost\\xgboost\\src\\learner.cc:738: \n",
      "Parameters: { \"use_label_encoder\" } are not used.\n",
      "\n",
      "  bst.update(dtrain, iteration=i, fobj=obj)\n"
     ]
    },
    {
     "name": "stdout",
     "output_type": "stream",
     "text": [
      "                    Accuracy_original  F1-macro_original  Accuracy_cleaned  \\\n",
      "XGBoost                      0.938095           0.921952          0.942105   \n",
      "GradientBoosting             0.909524           0.867867          0.921053   \n",
      "RandomForest                 0.909524           0.862718          0.936842   \n",
      "DecisionTree                 0.900000           0.841277          0.921053   \n",
      "SVM                          0.639524           0.349085          0.594737   \n",
      "LogisticRegression           0.635000           0.411782          0.578070   \n",
      "MLP                          0.437381           0.243788          0.496784   \n",
      "\n",
      "                    F1-macro_cleaned  \n",
      "XGBoost                     0.925729  \n",
      "GradientBoosting            0.912359  \n",
      "RandomForest                0.923028  \n",
      "DecisionTree                0.903897  \n",
      "SVM                         0.317187  \n",
      "LogisticRegression          0.360510  \n",
      "MLP                         0.294536  \n"
     ]
    }
   ],
   "source": [
    "# Rezultati na originalnim podacima\n",
    "results_original = evaluate_models(classifiers, X, y_label)\n",
    "\n",
    "# Rezultati na prociscenim podacima\n",
    "results_cleaned = evaluate_models(classifiers, X_clear, y_clear)\n",
    "\n",
    "# Spajanje u jednu tabelu\n",
    "comparison = results_original.add_suffix(\"_original\").join(results_cleaned.add_suffix(\"_cleaned\"))\n",
    "print(comparison)"
   ]
  },
  {
   "cell_type": "code",
   "execution_count": 83,
   "id": "02ab162f",
   "metadata": {},
   "outputs": [
    {
     "name": "stdout",
     "output_type": "stream",
     "text": [
      "                    Accuracy  F1-macro\n",
      "XGBoost             0.938095  0.921952\n",
      "GradientBoosting    0.909524  0.867867\n",
      "RandomForest        0.909524  0.862718\n",
      "DecisionTree        0.900000  0.841277\n",
      "SVM                 0.639524  0.349085\n",
      "LogisticRegression  0.635000  0.411782\n",
      "MLP                 0.437381  0.243788\n"
     ]
    },
    {
     "data": {
      "image/png": "[encoded data removed]",
      "text/plain": [
       "<Figure size 1000x600 with 1 Axes>"
      ]
     },
     "metadata": {},
     "output_type": "display_data"
    }
   ],
   "source": [
    "print(results_original)\n",
    "\n",
    "results_original.plot(kind=\"bar\", figsize=(10,6))\n",
    "plt.title(\"Rezultati kros-validacije (10-fold)\")\n",
    "plt.ylabel(\"Rezultat\")\n",
    "plt.xticks(rotation=45)\n",
    "plt.show()"
   ]
  },
  {
   "cell_type": "code",
   "execution_count": 84,
   "id": "30478d46",
   "metadata": {},
   "outputs": [
    {
     "name": "stdout",
     "output_type": "stream",
     "text": [
      "                    Accuracy  F1-macro\n",
      "XGBoost             0.942105  0.925729\n",
      "RandomForest        0.936842  0.923028\n",
      "GradientBoosting    0.921053  0.912359\n",
      "DecisionTree        0.921053  0.903897\n",
      "SVM                 0.594737  0.317187\n",
      "LogisticRegression  0.578070  0.360510\n",
      "MLP                 0.496784  0.294536\n"
     ]
    },
    {
     "data": {
      "image/png": "[encoded data removed]",
      "text/plain": [
       "<Figure size 1000x600 with 1 Axes>"
      ]
     },
     "metadata": {},
     "output_type": "display_data"
    }
   ],
   "source": [
    "print(results_cleaned)\n",
    "\n",
    "results_cleaned.plot(kind=\"bar\", figsize=(10,6))\n",
    "plt.title(\"Rezultati kros-validacije (10-fold)\")\n",
    "plt.ylabel(\"Rezultat\")\n",
    "plt.xticks(rotation=45)\n",
    "plt.show()"
   ]
  },
  {
   "cell_type": "markdown",
   "id": "e8fbafaf",
   "metadata": {},
   "source": [
    "##### Hyperparameter tuning"
   ]
  },
  {
   "cell_type": "markdown",
   "id": "7679b624",
   "metadata": {},
   "source": [
    "GridSearchCV za RandomForest"
   ]
  },
  {
   "cell_type": "code",
   "execution_count": 75,
   "id": "f90c883c",
   "metadata": {},
   "outputs": [
    {
     "name": "stderr",
     "output_type": "stream",
     "text": [
      "c:\\Users\\marij\\Desktop\\Faks\\2024-25\\Letnji\\Inteligentni Sistemi\\Seminarski\\venv\\Lib\\site-packages\\sklearn\\model_selection\\_split.py:811: UserWarning: The least populated class in y has only 4 members, which is less than n_splits=5.\n",
      "  warnings.warn(\n"
     ]
    },
    {
     "name": "stdout",
     "output_type": "stream",
     "text": [
      "RandomForest - Najbolji parametri (GridSearch): {'max_depth': 10, 'min_samples_split': 2, 'n_estimators': 100}\n",
      "RandomForest - Najbolji rezultat (GridSearch): 0.9538203969943101\n"
     ]
    }
   ],
   "source": [
    "from sklearn.model_selection import GridSearchCV\n",
    "\n",
    "rf = RandomForestClassifier(random_state=42)\n",
    "\n",
    "param_grid_rf = {\n",
    "    \"n_estimators\": [50, 100, 200],\n",
    "    \"max_depth\": [None, 5, 10],\n",
    "    \"min_samples_split\": [2, 5, 10]\n",
    "}\n",
    "\n",
    "grid_rf = GridSearchCV(\n",
    "    estimator=rf,\n",
    "    param_grid=param_grid_rf,\n",
    "    cv=5,\n",
    "    scoring=\"f1_macro\",\n",
    "    n_jobs=-1\n",
    ")\n",
    "\n",
    "grid_rf.fit(X_clear, y_clear)\n",
    "\n",
    "print(\"RandomForest - Najbolji parametri (GridSearch):\", grid_rf.best_params_)\n",
    "print(\"RandomForest - Najbolji rezultat (GridSearch):\", grid_rf.best_score_)"
   ]
  },
  {
   "cell_type": "markdown",
   "id": "ebb2ea2a",
   "metadata": {},
   "source": [
    "GridSearch za XGBoost"
   ]
  },
  {
   "cell_type": "code",
   "execution_count": 76,
   "id": "5754b495",
   "metadata": {},
   "outputs": [
    {
     "name": "stderr",
     "output_type": "stream",
     "text": [
      "c:\\Users\\marij\\Desktop\\Faks\\2024-25\\Letnji\\Inteligentni Sistemi\\Seminarski\\venv\\Lib\\site-packages\\sklearn\\model_selection\\_split.py:811: UserWarning: The least populated class in y has only 4 members, which is less than n_splits=5.\n",
      "  warnings.warn(\n",
      "c:\\Users\\marij\\Desktop\\Faks\\2024-25\\Letnji\\Inteligentni Sistemi\\Seminarski\\venv\\Lib\\site-packages\\xgboost\\training.py:183: UserWarning: [02:22:32] WARNING: C:\\actions-runner\\_work\\xgboost\\xgboost\\src\\learner.cc:738: \n",
      "Parameters: { \"use_label_encoder\" } are not used.\n",
      "\n",
      "  bst.update(dtrain, iteration=i, fobj=obj)\n"
     ]
    },
    {
     "name": "stdout",
     "output_type": "stream",
     "text": [
      "XGBoost - Najbolji parametri (GridSearch): {'learning_rate': 0.2, 'max_depth': 5, 'n_estimators': 200}\n",
      "XGBoost - Najbolji rezultat (GridSearch): 0.9431452203191334\n"
     ]
    }
   ],
   "source": [
    "xgb = XGBClassifier(use_label_encoder=False, eval_metric=\"mlogloss\", random_state=42)\n",
    "\n",
    "param_grid_xgb = {\n",
    "    \"n_estimators\": [50, 100, 200],\n",
    "    \"max_depth\": [3, 5, 7],\n",
    "    \"learning_rate\": [0.01, 0.1, 0.2]\n",
    "}\n",
    "\n",
    "grid_xgb = GridSearchCV(\n",
    "    estimator=xgb,\n",
    "    param_grid=param_grid_xgb,\n",
    "    cv=5,\n",
    "    scoring=\"f1_macro\",\n",
    "    n_jobs=-1\n",
    ")\n",
    "\n",
    "grid_xgb.fit(X_clear, y_clear)\n",
    "\n",
    "print(\"XGBoost - Najbolji parametri (GridSearch):\", grid_xgb.best_params_)\n",
    "print(\"XGBoost - Najbolji rezultat (GridSearch):\", grid_xgb.best_score_)"
   ]
  },
  {
   "cell_type": "markdown",
   "id": "85722770",
   "metadata": {},
   "source": [
    "RandomizedSearchCV za RandomForest"
   ]
  },
  {
   "cell_type": "code",
   "execution_count": 77,
   "id": "4c891434",
   "metadata": {},
   "outputs": [
    {
     "name": "stderr",
     "output_type": "stream",
     "text": [
      "c:\\Users\\marij\\Desktop\\Faks\\2024-25\\Letnji\\Inteligentni Sistemi\\Seminarski\\venv\\Lib\\site-packages\\sklearn\\model_selection\\_split.py:811: UserWarning: The least populated class in y has only 4 members, which is less than n_splits=5.\n",
      "  warnings.warn(\n"
     ]
    },
    {
     "name": "stdout",
     "output_type": "stream",
     "text": [
      "RandomForest - Najbolji parametri (RandomizedSearch): {'n_estimators': 400, 'min_samples_split': 5, 'min_samples_leaf': 1, 'max_depth': 20}\n",
      "RandomForest - Najbolji rezultat (RandomizedSearch): 0.7300408843941426\n"
     ]
    }
   ],
   "source": [
    "from sklearn.model_selection import RandomizedSearchCV\n",
    "\n",
    "rf = RandomForestClassifier(random_state=42)\n",
    "\n",
    "param_dist_rf = {\n",
    "    \"n_estimators\": [50, 100, 200, 300, 400],\n",
    "    \"max_depth\": [None, 5, 10, 15, 20],\n",
    "    \"min_samples_split\": [2, 5, 10, 20],\n",
    "    \"min_samples_leaf\": [1, 2, 4, 6]\n",
    "}\n",
    "\n",
    "random_rf = RandomizedSearchCV(\n",
    "    estimator=rf,\n",
    "    param_distributions=param_dist_rf,\n",
    "    n_iter=20,\n",
    "    cv=5,\n",
    "    scoring=\"f1_macro\",\n",
    "    random_state=42,\n",
    "    n_jobs=-1\n",
    ")\n",
    "\n",
    "random_rf.fit(X_clear, y_clear)\n",
    "\n",
    "print(\"RandomForest - Najbolji parametri (RandomizedSearch):\", random_rf.best_params_)\n",
    "print(\"RandomForest - Najbolji rezultat (RandomizedSearch):\", random_rf.best_score_)"
   ]
  },
  {
   "cell_type": "markdown",
   "id": "a1778b94",
   "metadata": {},
   "source": [
    "RandomizedSearchCv za XGBoost"
   ]
  },
  {
   "cell_type": "code",
   "execution_count": 78,
   "id": "6f997778",
   "metadata": {},
   "outputs": [
    {
     "name": "stderr",
     "output_type": "stream",
     "text": [
      "c:\\Users\\marij\\Desktop\\Faks\\2024-25\\Letnji\\Inteligentni Sistemi\\Seminarski\\venv\\Lib\\site-packages\\sklearn\\model_selection\\_split.py:811: UserWarning: The least populated class in y has only 4 members, which is less than n_splits=5.\n",
      "  warnings.warn(\n"
     ]
    },
    {
     "name": "stdout",
     "output_type": "stream",
     "text": [
      "XGBoost - Najbolji parametri (RandomizedSearch): {'subsample': 0.6, 'n_estimators': 100, 'max_depth': 5, 'learning_rate': 0.2, 'colsample_bytree': 0.6}\n",
      "XGBoost - Najbolji rezultat (RandomizedSearch): 0.947114319736271\n"
     ]
    },
    {
     "name": "stderr",
     "output_type": "stream",
     "text": [
      "c:\\Users\\marij\\Desktop\\Faks\\2024-25\\Letnji\\Inteligentni Sistemi\\Seminarski\\venv\\Lib\\site-packages\\xgboost\\training.py:183: UserWarning: [02:22:40] WARNING: C:\\actions-runner\\_work\\xgboost\\xgboost\\src\\learner.cc:738: \n",
      "Parameters: { \"use_label_encoder\" } are not used.\n",
      "\n",
      "  bst.update(dtrain, iteration=i, fobj=obj)\n"
     ]
    }
   ],
   "source": [
    "xgb = XGBClassifier(use_label_encoder=False, eval_metric=\"mlogloss\", random_state=42)\n",
    "\n",
    "param_dist_xgb = {\n",
    "    \"n_estimators\": [50, 100, 200, 300, 400],\n",
    "    \"max_depth\": [3, 5, 7, 10],\n",
    "    \"learning_rate\": [0.01, 0.05, 0.1, 0.2],\n",
    "    \"subsample\": [0.6, 0.8, 1.0],\n",
    "    \"colsample_bytree\": [0.6, 0.8, 1.0]\n",
    "}\n",
    "\n",
    "random_xgb = RandomizedSearchCV(\n",
    "    estimator=xgb,\n",
    "    param_distributions=param_dist_xgb,\n",
    "    n_iter=20,\n",
    "    cv=5,\n",
    "    scoring=\"f1_macro\",\n",
    "    random_state=42,\n",
    "    n_jobs=-1\n",
    ")\n",
    "\n",
    "random_xgb.fit(X_clear, y_clear)\n",
    "\n",
    "print(\"XGBoost - Najbolji parametri (RandomizedSearch):\", random_xgb.best_params_)\n",
    "print(\"XGBoost - Najbolji rezultat (RandomizedSearch):\", random_xgb.best_score_)\n"
   ]
  },
  {
   "cell_type": "markdown",
   "id": "b44f3578",
   "metadata": {},
   "source": [
    "##### Da li izbacivanje nekih featura moze da pomogne?"
   ]
  },
  {
   "cell_type": "code",
   "execution_count": 85,
   "id": "047a37ac",
   "metadata": {},
   "outputs": [
    {
     "name": "stdout",
     "output_type": "stream",
     "text": [
      "Dimenzije: (208, 13) (208,)\n"
     ]
    }
   ],
   "source": [
    "# Features = samo izjave i1–i14 (bez i8)\n",
    "features_i = [f\"i{i}\" for i in range(1,15) if i != 8]\n",
    "X_i = df[features_i]\n",
    "y_i = df[\"i8\"]\n",
    "\n",
    "label = LabelEncoder()\n",
    "y_i_label = label.fit_transform(y_i)\n",
    "\n",
    "print(\"Dimenzije:\", X_i.shape, y_i_label.shape)"
   ]
  },
  {
   "cell_type": "code",
   "execution_count": 86,
   "id": "ddb407a3",
   "metadata": {},
   "outputs": [
    {
     "name": "stderr",
     "output_type": "stream",
     "text": [
      "c:\\Users\\marij\\Desktop\\Faks\\2024-25\\Letnji\\Inteligentni Sistemi\\Seminarski\\venv\\Lib\\site-packages\\sklearn\\model_selection\\_split.py:811: UserWarning: The least populated class in y has only 8 members, which is less than n_splits=10.\n",
      "  warnings.warn(\n",
      "c:\\Users\\marij\\Desktop\\Faks\\2024-25\\Letnji\\Inteligentni Sistemi\\Seminarski\\venv\\Lib\\site-packages\\sklearn\\model_selection\\_split.py:811: UserWarning: The least populated class in y has only 8 members, which is less than n_splits=10.\n",
      "  warnings.warn(\n",
      "c:\\Users\\marij\\Desktop\\Faks\\2024-25\\Letnji\\Inteligentni Sistemi\\Seminarski\\venv\\Lib\\site-packages\\sklearn\\model_selection\\_split.py:811: UserWarning: The least populated class in y has only 8 members, which is less than n_splits=10.\n",
      "  warnings.warn(\n",
      "c:\\Users\\marij\\Desktop\\Faks\\2024-25\\Letnji\\Inteligentni Sistemi\\Seminarski\\venv\\Lib\\site-packages\\sklearn\\model_selection\\_split.py:811: UserWarning: The least populated class in y has only 8 members, which is less than n_splits=10.\n",
      "  warnings.warn(\n",
      "c:\\Users\\marij\\Desktop\\Faks\\2024-25\\Letnji\\Inteligentni Sistemi\\Seminarski\\venv\\Lib\\site-packages\\sklearn\\model_selection\\_split.py:811: UserWarning: The least populated class in y has only 8 members, which is less than n_splits=10.\n",
      "  warnings.warn(\n",
      "c:\\Users\\marij\\Desktop\\Faks\\2024-25\\Letnji\\Inteligentni Sistemi\\Seminarski\\venv\\Lib\\site-packages\\sklearn\\model_selection\\_split.py:811: UserWarning: The least populated class in y has only 8 members, which is less than n_splits=10.\n",
      "  warnings.warn(\n",
      "c:\\Users\\marij\\Desktop\\Faks\\2024-25\\Letnji\\Inteligentni Sistemi\\Seminarski\\venv\\Lib\\site-packages\\sklearn\\neural_network\\_multilayer_perceptron.py:781: ConvergenceWarning: Stochastic Optimizer: Maximum iterations (1000) reached and the optimization hasn't converged yet.\n",
      "  warnings.warn(\n",
      "c:\\Users\\marij\\Desktop\\Faks\\2024-25\\Letnji\\Inteligentni Sistemi\\Seminarski\\venv\\Lib\\site-packages\\sklearn\\neural_network\\_multilayer_perceptron.py:781: ConvergenceWarning: Stochastic Optimizer: Maximum iterations (1000) reached and the optimization hasn't converged yet.\n",
      "  warnings.warn(\n",
      "c:\\Users\\marij\\Desktop\\Faks\\2024-25\\Letnji\\Inteligentni Sistemi\\Seminarski\\venv\\Lib\\site-packages\\sklearn\\neural_network\\_multilayer_perceptron.py:781: ConvergenceWarning: Stochastic Optimizer: Maximum iterations (1000) reached and the optimization hasn't converged yet.\n",
      "  warnings.warn(\n",
      "c:\\Users\\marij\\Desktop\\Faks\\2024-25\\Letnji\\Inteligentni Sistemi\\Seminarski\\venv\\Lib\\site-packages\\sklearn\\neural_network\\_multilayer_perceptron.py:781: ConvergenceWarning: Stochastic Optimizer: Maximum iterations (1000) reached and the optimization hasn't converged yet.\n",
      "  warnings.warn(\n",
      "c:\\Users\\marij\\Desktop\\Faks\\2024-25\\Letnji\\Inteligentni Sistemi\\Seminarski\\venv\\Lib\\site-packages\\sklearn\\neural_network\\_multilayer_perceptron.py:781: ConvergenceWarning: Stochastic Optimizer: Maximum iterations (1000) reached and the optimization hasn't converged yet.\n",
      "  warnings.warn(\n",
      "c:\\Users\\marij\\Desktop\\Faks\\2024-25\\Letnji\\Inteligentni Sistemi\\Seminarski\\venv\\Lib\\site-packages\\sklearn\\neural_network\\_multilayer_perceptron.py:781: ConvergenceWarning: Stochastic Optimizer: Maximum iterations (1000) reached and the optimization hasn't converged yet.\n",
      "  warnings.warn(\n",
      "c:\\Users\\marij\\Desktop\\Faks\\2024-25\\Letnji\\Inteligentni Sistemi\\Seminarski\\venv\\Lib\\site-packages\\sklearn\\neural_network\\_multilayer_perceptron.py:781: ConvergenceWarning: Stochastic Optimizer: Maximum iterations (1000) reached and the optimization hasn't converged yet.\n",
      "  warnings.warn(\n",
      "c:\\Users\\marij\\Desktop\\Faks\\2024-25\\Letnji\\Inteligentni Sistemi\\Seminarski\\venv\\Lib\\site-packages\\sklearn\\neural_network\\_multilayer_perceptron.py:781: ConvergenceWarning: Stochastic Optimizer: Maximum iterations (1000) reached and the optimization hasn't converged yet.\n",
      "  warnings.warn(\n",
      "c:\\Users\\marij\\Desktop\\Faks\\2024-25\\Letnji\\Inteligentni Sistemi\\Seminarski\\venv\\Lib\\site-packages\\sklearn\\neural_network\\_multilayer_perceptron.py:781: ConvergenceWarning: Stochastic Optimizer: Maximum iterations (1000) reached and the optimization hasn't converged yet.\n",
      "  warnings.warn(\n",
      "c:\\Users\\marij\\Desktop\\Faks\\2024-25\\Letnji\\Inteligentni Sistemi\\Seminarski\\venv\\Lib\\site-packages\\sklearn\\neural_network\\_multilayer_perceptron.py:781: ConvergenceWarning: Stochastic Optimizer: Maximum iterations (1000) reached and the optimization hasn't converged yet.\n",
      "  warnings.warn(\n",
      "c:\\Users\\marij\\Desktop\\Faks\\2024-25\\Letnji\\Inteligentni Sistemi\\Seminarski\\venv\\Lib\\site-packages\\sklearn\\model_selection\\_split.py:811: UserWarning: The least populated class in y has only 8 members, which is less than n_splits=10.\n",
      "  warnings.warn(\n",
      "c:\\Users\\marij\\Desktop\\Faks\\2024-25\\Letnji\\Inteligentni Sistemi\\Seminarski\\venv\\Lib\\site-packages\\xgboost\\training.py:183: UserWarning: [02:31:57] WARNING: C:\\actions-runner\\_work\\xgboost\\xgboost\\src\\learner.cc:738: \n",
      "Parameters: { \"use_label_encoder\" } are not used.\n",
      "\n",
      "  bst.update(dtrain, iteration=i, fobj=obj)\n",
      "c:\\Users\\marij\\Desktop\\Faks\\2024-25\\Letnji\\Inteligentni Sistemi\\Seminarski\\venv\\Lib\\site-packages\\xgboost\\training.py:183: UserWarning: [02:31:57] WARNING: C:\\actions-runner\\_work\\xgboost\\xgboost\\src\\learner.cc:738: \n",
      "Parameters: { \"use_label_encoder\" } are not used.\n",
      "\n",
      "  bst.update(dtrain, iteration=i, fobj=obj)\n",
      "c:\\Users\\marij\\Desktop\\Faks\\2024-25\\Letnji\\Inteligentni Sistemi\\Seminarski\\venv\\Lib\\site-packages\\xgboost\\training.py:183: UserWarning: [02:31:57] WARNING: C:\\actions-runner\\_work\\xgboost\\xgboost\\src\\learner.cc:738: \n",
      "Parameters: { \"use_label_encoder\" } are not used.\n",
      "\n",
      "  bst.update(dtrain, iteration=i, fobj=obj)\n",
      "c:\\Users\\marij\\Desktop\\Faks\\2024-25\\Letnji\\Inteligentni Sistemi\\Seminarski\\venv\\Lib\\site-packages\\xgboost\\training.py:183: UserWarning: [02:31:57] WARNING: C:\\actions-runner\\_work\\xgboost\\xgboost\\src\\learner.cc:738: \n",
      "Parameters: { \"use_label_encoder\" } are not used.\n",
      "\n",
      "  bst.update(dtrain, iteration=i, fobj=obj)\n",
      "c:\\Users\\marij\\Desktop\\Faks\\2024-25\\Letnji\\Inteligentni Sistemi\\Seminarski\\venv\\Lib\\site-packages\\xgboost\\training.py:183: UserWarning: [02:31:58] WARNING: C:\\actions-runner\\_work\\xgboost\\xgboost\\src\\learner.cc:738: \n",
      "Parameters: { \"use_label_encoder\" } are not used.\n",
      "\n",
      "  bst.update(dtrain, iteration=i, fobj=obj)\n",
      "c:\\Users\\marij\\Desktop\\Faks\\2024-25\\Letnji\\Inteligentni Sistemi\\Seminarski\\venv\\Lib\\site-packages\\xgboost\\training.py:183: UserWarning: [02:31:58] WARNING: C:\\actions-runner\\_work\\xgboost\\xgboost\\src\\learner.cc:738: \n",
      "Parameters: { \"use_label_encoder\" } are not used.\n",
      "\n",
      "  bst.update(dtrain, iteration=i, fobj=obj)\n",
      "c:\\Users\\marij\\Desktop\\Faks\\2024-25\\Letnji\\Inteligentni Sistemi\\Seminarski\\venv\\Lib\\site-packages\\xgboost\\training.py:183: UserWarning: [02:31:58] WARNING: C:\\actions-runner\\_work\\xgboost\\xgboost\\src\\learner.cc:738: \n",
      "Parameters: { \"use_label_encoder\" } are not used.\n",
      "\n",
      "  bst.update(dtrain, iteration=i, fobj=obj)\n",
      "c:\\Users\\marij\\Desktop\\Faks\\2024-25\\Letnji\\Inteligentni Sistemi\\Seminarski\\venv\\Lib\\site-packages\\xgboost\\training.py:183: UserWarning: [02:31:58] WARNING: C:\\actions-runner\\_work\\xgboost\\xgboost\\src\\learner.cc:738: \n",
      "Parameters: { \"use_label_encoder\" } are not used.\n",
      "\n",
      "  bst.update(dtrain, iteration=i, fobj=obj)\n",
      "c:\\Users\\marij\\Desktop\\Faks\\2024-25\\Letnji\\Inteligentni Sistemi\\Seminarski\\venv\\Lib\\site-packages\\xgboost\\training.py:183: UserWarning: [02:31:58] WARNING: C:\\actions-runner\\_work\\xgboost\\xgboost\\src\\learner.cc:738: \n",
      "Parameters: { \"use_label_encoder\" } are not used.\n",
      "\n",
      "  bst.update(dtrain, iteration=i, fobj=obj)\n",
      "c:\\Users\\marij\\Desktop\\Faks\\2024-25\\Letnji\\Inteligentni Sistemi\\Seminarski\\venv\\Lib\\site-packages\\xgboost\\training.py:183: UserWarning: [02:31:58] WARNING: C:\\actions-runner\\_work\\xgboost\\xgboost\\src\\learner.cc:738: \n",
      "Parameters: { \"use_label_encoder\" } are not used.\n",
      "\n",
      "  bst.update(dtrain, iteration=i, fobj=obj)\n"
     ]
    },
    {
     "name": "stdout",
     "output_type": "stream",
     "text": [
      "Rezultati modela (samo i1–i14):\n",
      "                    Accuracy  F1-macro\n",
      "XGBoost             0.923810  0.886338\n",
      "RandomForest        0.919048  0.869282\n",
      "DecisionTree        0.914286  0.855713\n",
      "GradientBoosting    0.914286  0.877137\n",
      "MLP                 0.760238  0.606242\n",
      "SVM                 0.736429  0.497467\n",
      "LogisticRegression  0.582381  0.386907\n"
     ]
    },
    {
     "data": {
      "image/png": "[encoded data removed]",
      "text/plain": [
       "<Figure size 1000x600 with 1 Axes>"
      ]
     },
     "metadata": {},
     "output_type": "display_data"
    }
   ],
   "source": [
    "# Evaluacija samo sa i1–i14 features\n",
    "results_i = evaluate_models(classifiers, X_i, y_i_label)\n",
    "\n",
    "print(\"Rezultati modela (samo i1–i14):\")\n",
    "print(results_i.sort_values(by=\"Accuracy\", ascending=False))\n",
    "\n",
    "# Vizuelizacija\n",
    "results_i.plot(kind=\"bar\", figsize=(10,6))\n",
    "plt.title(\"Rezultati (samo i1–i14 kao features)\")\n",
    "plt.ylabel(\"Rezultat\")\n",
    "plt.xticks(rotation=45)\n",
    "plt.show()"
   ]
  },
  {
   "cell_type": "code",
   "execution_count": 87,
   "id": "42824abb",
   "metadata": {},
   "outputs": [],
   "source": [
    "# IsolationForest na features i1–i14\n",
    "out = IsolationForest(contamination=0.1, random_state=42)\n",
    "y_pred_i = out.fit_predict(X_i)\n",
    "\n",
    "X_i_clear = X_i[y_pred_i == 1]\n",
    "y_i_clear = y_i_label[y_pred_i == 1]"
   ]
  },
  {
   "cell_type": "code",
   "execution_count": 88,
   "id": "85729159",
   "metadata": {},
   "outputs": [
    {
     "name": "stdout",
     "output_type": "stream",
     "text": [
      "Original: (208, 13)  -> Posle uklanjanja 10% outlier-a: (188, 13)\n"
     ]
    }
   ],
   "source": [
    "print(\"Original:\", X_i.shape, \" -> Posle uklanjanja 10% outlier-a:\", X_i_clear.shape)"
   ]
  },
  {
   "cell_type": "code",
   "execution_count": 89,
   "id": "bbf470b0",
   "metadata": {},
   "outputs": [
    {
     "name": "stderr",
     "output_type": "stream",
     "text": [
      "c:\\Users\\marij\\Desktop\\Faks\\2024-25\\Letnji\\Inteligentni Sistemi\\Seminarski\\venv\\Lib\\site-packages\\sklearn\\model_selection\\_split.py:811: UserWarning: The least populated class in y has only 4 members, which is less than n_splits=10.\n",
      "  warnings.warn(\n",
      "c:\\Users\\marij\\Desktop\\Faks\\2024-25\\Letnji\\Inteligentni Sistemi\\Seminarski\\venv\\Lib\\site-packages\\sklearn\\model_selection\\_split.py:811: UserWarning: The least populated class in y has only 4 members, which is less than n_splits=10.\n",
      "  warnings.warn(\n",
      "c:\\Users\\marij\\Desktop\\Faks\\2024-25\\Letnji\\Inteligentni Sistemi\\Seminarski\\venv\\Lib\\site-packages\\sklearn\\model_selection\\_split.py:811: UserWarning: The least populated class in y has only 4 members, which is less than n_splits=10.\n",
      "  warnings.warn(\n",
      "c:\\Users\\marij\\Desktop\\Faks\\2024-25\\Letnji\\Inteligentni Sistemi\\Seminarski\\venv\\Lib\\site-packages\\sklearn\\model_selection\\_split.py:811: UserWarning: The least populated class in y has only 4 members, which is less than n_splits=10.\n",
      "  warnings.warn(\n",
      "c:\\Users\\marij\\Desktop\\Faks\\2024-25\\Letnji\\Inteligentni Sistemi\\Seminarski\\venv\\Lib\\site-packages\\sklearn\\model_selection\\_split.py:811: UserWarning: The least populated class in y has only 4 members, which is less than n_splits=10.\n",
      "  warnings.warn(\n",
      "c:\\Users\\marij\\Desktop\\Faks\\2024-25\\Letnji\\Inteligentni Sistemi\\Seminarski\\venv\\Lib\\site-packages\\sklearn\\model_selection\\_split.py:811: UserWarning: The least populated class in y has only 4 members, which is less than n_splits=10.\n",
      "  warnings.warn(\n",
      "c:\\Users\\marij\\Desktop\\Faks\\2024-25\\Letnji\\Inteligentni Sistemi\\Seminarski\\venv\\Lib\\site-packages\\sklearn\\neural_network\\_multilayer_perceptron.py:781: ConvergenceWarning: Stochastic Optimizer: Maximum iterations (1000) reached and the optimization hasn't converged yet.\n",
      "  warnings.warn(\n",
      "c:\\Users\\marij\\Desktop\\Faks\\2024-25\\Letnji\\Inteligentni Sistemi\\Seminarski\\venv\\Lib\\site-packages\\sklearn\\neural_network\\_multilayer_perceptron.py:781: ConvergenceWarning: Stochastic Optimizer: Maximum iterations (1000) reached and the optimization hasn't converged yet.\n",
      "  warnings.warn(\n",
      "c:\\Users\\marij\\Desktop\\Faks\\2024-25\\Letnji\\Inteligentni Sistemi\\Seminarski\\venv\\Lib\\site-packages\\sklearn\\neural_network\\_multilayer_perceptron.py:781: ConvergenceWarning: Stochastic Optimizer: Maximum iterations (1000) reached and the optimization hasn't converged yet.\n",
      "  warnings.warn(\n",
      "c:\\Users\\marij\\Desktop\\Faks\\2024-25\\Letnji\\Inteligentni Sistemi\\Seminarski\\venv\\Lib\\site-packages\\sklearn\\neural_network\\_multilayer_perceptron.py:781: ConvergenceWarning: Stochastic Optimizer: Maximum iterations (1000) reached and the optimization hasn't converged yet.\n",
      "  warnings.warn(\n",
      "c:\\Users\\marij\\Desktop\\Faks\\2024-25\\Letnji\\Inteligentni Sistemi\\Seminarski\\venv\\Lib\\site-packages\\sklearn\\neural_network\\_multilayer_perceptron.py:781: ConvergenceWarning: Stochastic Optimizer: Maximum iterations (1000) reached and the optimization hasn't converged yet.\n",
      "  warnings.warn(\n",
      "c:\\Users\\marij\\Desktop\\Faks\\2024-25\\Letnji\\Inteligentni Sistemi\\Seminarski\\venv\\Lib\\site-packages\\sklearn\\neural_network\\_multilayer_perceptron.py:781: ConvergenceWarning: Stochastic Optimizer: Maximum iterations (1000) reached and the optimization hasn't converged yet.\n",
      "  warnings.warn(\n",
      "c:\\Users\\marij\\Desktop\\Faks\\2024-25\\Letnji\\Inteligentni Sistemi\\Seminarski\\venv\\Lib\\site-packages\\sklearn\\neural_network\\_multilayer_perceptron.py:781: ConvergenceWarning: Stochastic Optimizer: Maximum iterations (1000) reached and the optimization hasn't converged yet.\n",
      "  warnings.warn(\n",
      "c:\\Users\\marij\\Desktop\\Faks\\2024-25\\Letnji\\Inteligentni Sistemi\\Seminarski\\venv\\Lib\\site-packages\\sklearn\\neural_network\\_multilayer_perceptron.py:781: ConvergenceWarning: Stochastic Optimizer: Maximum iterations (1000) reached and the optimization hasn't converged yet.\n",
      "  warnings.warn(\n",
      "c:\\Users\\marij\\Desktop\\Faks\\2024-25\\Letnji\\Inteligentni Sistemi\\Seminarski\\venv\\Lib\\site-packages\\sklearn\\neural_network\\_multilayer_perceptron.py:781: ConvergenceWarning: Stochastic Optimizer: Maximum iterations (1000) reached and the optimization hasn't converged yet.\n",
      "  warnings.warn(\n",
      "c:\\Users\\marij\\Desktop\\Faks\\2024-25\\Letnji\\Inteligentni Sistemi\\Seminarski\\venv\\Lib\\site-packages\\sklearn\\neural_network\\_multilayer_perceptron.py:781: ConvergenceWarning: Stochastic Optimizer: Maximum iterations (1000) reached and the optimization hasn't converged yet.\n",
      "  warnings.warn(\n",
      "c:\\Users\\marij\\Desktop\\Faks\\2024-25\\Letnji\\Inteligentni Sistemi\\Seminarski\\venv\\Lib\\site-packages\\sklearn\\model_selection\\_split.py:811: UserWarning: The least populated class in y has only 4 members, which is less than n_splits=10.\n",
      "  warnings.warn(\n",
      "c:\\Users\\marij\\Desktop\\Faks\\2024-25\\Letnji\\Inteligentni Sistemi\\Seminarski\\venv\\Lib\\site-packages\\xgboost\\training.py:183: UserWarning: [02:34:04] WARNING: C:\\actions-runner\\_work\\xgboost\\xgboost\\src\\learner.cc:738: \n",
      "Parameters: { \"use_label_encoder\" } are not used.\n",
      "\n",
      "  bst.update(dtrain, iteration=i, fobj=obj)\n",
      "c:\\Users\\marij\\Desktop\\Faks\\2024-25\\Letnji\\Inteligentni Sistemi\\Seminarski\\venv\\Lib\\site-packages\\xgboost\\training.py:183: UserWarning: [02:34:04] WARNING: C:\\actions-runner\\_work\\xgboost\\xgboost\\src\\learner.cc:738: \n",
      "Parameters: { \"use_label_encoder\" } are not used.\n",
      "\n",
      "  bst.update(dtrain, iteration=i, fobj=obj)\n",
      "c:\\Users\\marij\\Desktop\\Faks\\2024-25\\Letnji\\Inteligentni Sistemi\\Seminarski\\venv\\Lib\\site-packages\\xgboost\\training.py:183: UserWarning: [02:34:04] WARNING: C:\\actions-runner\\_work\\xgboost\\xgboost\\src\\learner.cc:738: \n",
      "Parameters: { \"use_label_encoder\" } are not used.\n",
      "\n",
      "  bst.update(dtrain, iteration=i, fobj=obj)\n",
      "c:\\Users\\marij\\Desktop\\Faks\\2024-25\\Letnji\\Inteligentni Sistemi\\Seminarski\\venv\\Lib\\site-packages\\xgboost\\training.py:183: UserWarning: [02:34:04] WARNING: C:\\actions-runner\\_work\\xgboost\\xgboost\\src\\learner.cc:738: \n",
      "Parameters: { \"use_label_encoder\" } are not used.\n",
      "\n",
      "  bst.update(dtrain, iteration=i, fobj=obj)\n",
      "c:\\Users\\marij\\Desktop\\Faks\\2024-25\\Letnji\\Inteligentni Sistemi\\Seminarski\\venv\\Lib\\site-packages\\xgboost\\training.py:183: UserWarning: [02:34:04] WARNING: C:\\actions-runner\\_work\\xgboost\\xgboost\\src\\learner.cc:738: \n",
      "Parameters: { \"use_label_encoder\" } are not used.\n",
      "\n",
      "  bst.update(dtrain, iteration=i, fobj=obj)\n",
      "c:\\Users\\marij\\Desktop\\Faks\\2024-25\\Letnji\\Inteligentni Sistemi\\Seminarski\\venv\\Lib\\site-packages\\xgboost\\training.py:183: UserWarning: [02:34:05] WARNING: C:\\actions-runner\\_work\\xgboost\\xgboost\\src\\learner.cc:738: \n",
      "Parameters: { \"use_label_encoder\" } are not used.\n",
      "\n",
      "  bst.update(dtrain, iteration=i, fobj=obj)\n",
      "c:\\Users\\marij\\Desktop\\Faks\\2024-25\\Letnji\\Inteligentni Sistemi\\Seminarski\\venv\\Lib\\site-packages\\xgboost\\training.py:183: UserWarning: [02:34:05] WARNING: C:\\actions-runner\\_work\\xgboost\\xgboost\\src\\learner.cc:738: \n",
      "Parameters: { \"use_label_encoder\" } are not used.\n",
      "\n",
      "  bst.update(dtrain, iteration=i, fobj=obj)\n",
      "c:\\Users\\marij\\Desktop\\Faks\\2024-25\\Letnji\\Inteligentni Sistemi\\Seminarski\\venv\\Lib\\site-packages\\xgboost\\training.py:183: UserWarning: [02:34:05] WARNING: C:\\actions-runner\\_work\\xgboost\\xgboost\\src\\learner.cc:738: \n",
      "Parameters: { \"use_label_encoder\" } are not used.\n",
      "\n",
      "  bst.update(dtrain, iteration=i, fobj=obj)\n",
      "c:\\Users\\marij\\Desktop\\Faks\\2024-25\\Letnji\\Inteligentni Sistemi\\Seminarski\\venv\\Lib\\site-packages\\xgboost\\training.py:183: UserWarning: [02:34:05] WARNING: C:\\actions-runner\\_work\\xgboost\\xgboost\\src\\learner.cc:738: \n",
      "Parameters: { \"use_label_encoder\" } are not used.\n",
      "\n",
      "  bst.update(dtrain, iteration=i, fobj=obj)\n",
      "c:\\Users\\marij\\Desktop\\Faks\\2024-25\\Letnji\\Inteligentni Sistemi\\Seminarski\\venv\\Lib\\site-packages\\xgboost\\training.py:183: UserWarning: [02:34:05] WARNING: C:\\actions-runner\\_work\\xgboost\\xgboost\\src\\learner.cc:738: \n",
      "Parameters: { \"use_label_encoder\" } are not used.\n",
      "\n",
      "  bst.update(dtrain, iteration=i, fobj=obj)\n"
     ]
    },
    {
     "name": "stdout",
     "output_type": "stream",
     "text": [
      "Rezultati (samo i1–i14, cleaned):\n",
      "                    Accuracy  F1-macro\n",
      "RandomForest        0.947368  0.928929\n",
      "DecisionTree        0.942105  0.915549\n",
      "XGBoost             0.936842  0.909104\n",
      "GradientBoosting    0.921053  0.900051\n",
      "MLP                 0.787135  0.670111\n",
      "SVM                 0.718713  0.483563\n",
      "LogisticRegression  0.595906  0.364797\n"
     ]
    },
    {
     "data": {
      "image/png": "[encoded data removed]",
      "text/plain": [
       "<Figure size 1000x600 with 1 Axes>"
      ]
     },
     "metadata": {},
     "output_type": "display_data"
    }
   ],
   "source": [
    "results_i_clear = evaluate_models(classifiers, X_i_clear, y_i_clear)\n",
    "\n",
    "print(\"Rezultati (samo i1–i14, cleaned):\")\n",
    "print(results_i_clear.sort_values(by=\"Accuracy\", ascending=False))\n",
    "\n",
    "# Vizuelizacija\n",
    "results_i_clear.plot(kind=\"bar\", figsize=(10,6))\n",
    "plt.title(\"Rezultati (samo i1–i14 kao features, cleaned)\")\n",
    "plt.ylabel(\"Rezultat\")\n",
    "plt.xticks(rotation=45)\n",
    "plt.show()"
   ]
  },
  {
   "cell_type": "code",
   "execution_count": 90,
   "id": "e6f2d032",
   "metadata": {},
   "outputs": [
    {
     "name": "stderr",
     "output_type": "stream",
     "text": [
      "c:\\Users\\marij\\Desktop\\Faks\\2024-25\\Letnji\\Inteligentni Sistemi\\Seminarski\\venv\\Lib\\site-packages\\sklearn\\model_selection\\_split.py:811: UserWarning: The least populated class in y has only 4 members, which is less than n_splits=5.\n",
      "  warnings.warn(\n"
     ]
    },
    {
     "name": "stdout",
     "output_type": "stream",
     "text": [
      "DecisionTree - Najbolji parametri (GridSearch): {'max_depth': None, 'min_samples_leaf': 1, 'min_samples_split': 2}\n",
      "DecisionTree - Najbolji rezultat (GridSearch): 0.9156861938383678\n"
     ]
    }
   ],
   "source": [
    "from sklearn.tree import DecisionTreeClassifier\n",
    "from sklearn.model_selection import GridSearchCV\n",
    "\n",
    "dt = DecisionTreeClassifier(random_state=42)\n",
    "\n",
    "param_grid_dt = {\n",
    "    \"max_depth\": [None, 5, 10, 15, 20],\n",
    "    \"min_samples_split\": [2, 5, 10],\n",
    "    \"min_samples_leaf\": [1, 2, 4]\n",
    "}\n",
    "\n",
    "grid_dt = GridSearchCV(\n",
    "    estimator=dt,\n",
    "    param_grid=param_grid_dt,\n",
    "    cv=5,\n",
    "    scoring=\"f1_macro\",\n",
    "    n_jobs=-1\n",
    ")\n",
    "\n",
    "grid_dt.fit(X_i_clear, y_i_clear)\n",
    "\n",
    "print(\"DecisionTree - Najbolji parametri (GridSearch):\", grid_dt.best_params_)\n",
    "print(\"DecisionTree - Najbolji rezultat (GridSearch):\", grid_dt.best_score_)\n"
   ]
  },
  {
   "cell_type": "code",
   "execution_count": 91,
   "id": "4c6d9857",
   "metadata": {},
   "outputs": [
    {
     "name": "stderr",
     "output_type": "stream",
     "text": [
      "c:\\Users\\marij\\Desktop\\Faks\\2024-25\\Letnji\\Inteligentni Sistemi\\Seminarski\\venv\\Lib\\site-packages\\sklearn\\model_selection\\_split.py:811: UserWarning: The least populated class in y has only 4 members, which is less than n_splits=5.\n",
      "  warnings.warn(\n"
     ]
    },
    {
     "name": "stdout",
     "output_type": "stream",
     "text": [
      "RandomForest - Najbolji parametri (GridSearch): {'max_depth': 10, 'min_samples_leaf': 1, 'min_samples_split': 2, 'n_estimators': 200}\n",
      "RandomForest - Najbolji rezultat (GridSearch): 0.9486479541130703\n"
     ]
    }
   ],
   "source": [
    "from sklearn.ensemble import RandomForestClassifier\n",
    "\n",
    "rf = RandomForestClassifier(random_state=42)\n",
    "\n",
    "param_grid_rf = {\n",
    "    \"n_estimators\": [50, 100, 200],\n",
    "    \"max_depth\": [None, 10, 20],\n",
    "    \"min_samples_split\": [2, 5, 10],\n",
    "    \"min_samples_leaf\": [1, 2, 4]\n",
    "}\n",
    "\n",
    "grid_rf = GridSearchCV(\n",
    "    estimator=rf,\n",
    "    param_grid=param_grid_rf,\n",
    "    cv=5,\n",
    "    scoring=\"f1_macro\",\n",
    "    n_jobs=-1\n",
    ")\n",
    "\n",
    "grid_rf.fit(X_i_clear, y_i_clear)\n",
    "\n",
    "print(\"RandomForest - Najbolji parametri (GridSearch):\", grid_rf.best_params_)\n",
    "print(\"RandomForest - Najbolji rezultat (GridSearch):\", grid_rf.best_score_)\n"
   ]
  },
  {
   "cell_type": "code",
   "execution_count": 92,
   "id": "cf4deb32",
   "metadata": {},
   "outputs": [
    {
     "name": "stdout",
     "output_type": "stream",
     "text": [
      "DecisionTree - Najbolji parametri (RandomizedSearch): {'min_samples_split': 10, 'min_samples_leaf': 1, 'max_depth': 19}\n",
      "DecisionTree - Najbolji rezultat (RandomizedSearch): 0.5724284501028687\n"
     ]
    },
    {
     "name": "stderr",
     "output_type": "stream",
     "text": [
      "c:\\Users\\marij\\Desktop\\Faks\\2024-25\\Letnji\\Inteligentni Sistemi\\Seminarski\\venv\\Lib\\site-packages\\sklearn\\model_selection\\_split.py:811: UserWarning: The least populated class in y has only 4 members, which is less than n_splits=5.\n",
      "  warnings.warn(\n"
     ]
    }
   ],
   "source": [
    "from sklearn.model_selection import RandomizedSearchCV\n",
    "\n",
    "dt = DecisionTreeClassifier(random_state=42)\n",
    "\n",
    "param_dist_dt = {\n",
    "    \"max_depth\": [None] + list(range(3, 21, 2)),\n",
    "    \"min_samples_split\": [2, 5, 10, 20],\n",
    "    \"min_samples_leaf\": [1, 2, 4, 6, 8]\n",
    "}\n",
    "\n",
    "random_dt = RandomizedSearchCV(\n",
    "    estimator=dt,\n",
    "    param_distributions=param_dist_dt,\n",
    "    n_iter=20,\n",
    "    cv=5,\n",
    "    scoring=\"f1_macro\",\n",
    "    random_state=42,\n",
    "    n_jobs=-1\n",
    ")\n",
    "\n",
    "random_dt.fit(X_i_clear, y_i_clear)\n",
    "\n",
    "print(\"DecisionTree - Najbolji parametri (RandomizedSearch):\", random_dt.best_params_)\n",
    "print(\"DecisionTree - Najbolji rezultat (RandomizedSearch):\", random_dt.best_score_)\n"
   ]
  },
  {
   "cell_type": "code",
   "execution_count": 93,
   "id": "4f3253f7",
   "metadata": {},
   "outputs": [
    {
     "name": "stderr",
     "output_type": "stream",
     "text": [
      "c:\\Users\\marij\\Desktop\\Faks\\2024-25\\Letnji\\Inteligentni Sistemi\\Seminarski\\venv\\Lib\\site-packages\\sklearn\\model_selection\\_split.py:811: UserWarning: The least populated class in y has only 4 members, which is less than n_splits=5.\n",
      "  warnings.warn(\n"
     ]
    },
    {
     "name": "stdout",
     "output_type": "stream",
     "text": [
      "RandomForest - Najbolji parametri (RandomizedSearch): {'n_estimators': 400, 'min_samples_split': 5, 'min_samples_leaf': 1, 'max_depth': 20}\n",
      "RandomForest - Najbolji rezultat (RandomizedSearch): 0.7217970912359183\n"
     ]
    }
   ],
   "source": [
    "rf = RandomForestClassifier(random_state=42)\n",
    "\n",
    "param_dist_rf = {\n",
    "    \"n_estimators\": [50, 100, 200, 300, 400],\n",
    "    \"max_depth\": [None, 5, 10, 15, 20],\n",
    "    \"min_samples_split\": [2, 5, 10, 20],\n",
    "    \"min_samples_leaf\": [1, 2, 4, 6]\n",
    "}\n",
    "\n",
    "random_rf = RandomizedSearchCV(\n",
    "    estimator=rf,\n",
    "    param_distributions=param_dist_rf,\n",
    "    n_iter=20,\n",
    "    cv=5,\n",
    "    scoring=\"f1_macro\",\n",
    "    random_state=42,\n",
    "    n_jobs=-1\n",
    ")\n",
    "\n",
    "random_rf.fit(X_i_clear, y_i_clear)\n",
    "\n",
    "print(\"RandomForest - Najbolji parametri (RandomizedSearch):\", random_rf.best_params_)\n",
    "print(\"RandomForest - Najbolji rezultat (RandomizedSearch):\", random_rf.best_score_)\n"
   ]
  },
  {
   "cell_type": "markdown",
   "id": "d4db5f72",
   "metadata": {},
   "source": [
    "#### Zakljucak i RF drvo\n",
    "\n",
    "\n"
   ]
  },
  {
   "cell_type": "markdown",
   "id": "ad37ecb5",
   "metadata": {},
   "source": [
    "Istrazivnje јe pokazalo da se stav uchenika o efikasnosti STEM radionica (i8) moze veoma tacno predvideti. Ansambl modeli, posebno Random Forest, postigli su naјbolje rezultate, sa F1-makro vrednoscu oko 0.95 nakon fino podesenih parametara. "
   ]
  },
  {
   "cell_type": "code",
   "execution_count": 100,
   "id": "baa08d2f",
   "metadata": {},
   "outputs": [
    {
     "data": {
      "text/plain": [
       "'tree_visual.png'"
      ]
     },
     "execution_count": 100,
     "metadata": {},
     "output_type": "execute_result"
    }
   ],
   "source": [
    "import graphviz\n",
    "from sklearn.tree import export_graphviz\n",
    "\n",
    "best_rf = grid_rf.best_estimator_\n",
    "estimator = best_rf.estimators_[0]\n",
    "\n",
    "export_graphviz(\n",
    "    estimator,\n",
    "    out_file=\"tree.dot\",\n",
    "    feature_names=[f\"i{i}\" for i in range(1, 15) if i != 8],\n",
    "    class_names=[str(c) for c in best_rf.classes_],\n",
    "    rounded=True,\n",
    "    filled=True\n",
    ")\n",
    "\n",
    "with open(\"tree.dot\") as f:\n",
    "    dot_graph = f.read()\n",
    "\n",
    "graphviz.Source(dot_graph)\n",
    "graphviz.Source(dot_graph).render(\"tree_visual\", format=\"png\", cleanup=True)"
   ]
  }
 ],
 "metadata": {
  "kernelspec": {
   "display_name": "venv",
   "language": "python",
   "name": "python3"
  },
  "language_info": {
   "codemirror_mode": {
    "name": "ipython",
    "version": 3
   },
   "file_extension": ".py",
   "mimetype": "text/x-python",
   "name": "python",
   "nbconvert_exporter": "python",
   "pygments_lexer": "ipython3",
   "version": "3.12.0"
  }
 },
 "nbformat": 4,
 "nbformat_minor": 5
}
